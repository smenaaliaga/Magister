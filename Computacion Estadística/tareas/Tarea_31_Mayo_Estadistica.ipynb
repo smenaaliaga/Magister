{
  "nbformat": 4,
  "nbformat_minor": 0,
  "metadata": {
    "colab": {
      "name": "Tarea_31_Mayo_Estadistica.ipynb",
      "provenance": [],
      "toc_visible": true,
      "authorship_tag": "ABX9TyO7rERtz1oifW1ee2B7IsRP",
      "include_colab_link": true
    },
    "kernelspec": {
      "name": "python3",
      "display_name": "Python 3"
    }
  },
  "cells": [
    {
      "cell_type": "markdown",
      "metadata": {
        "id": "view-in-github",
        "colab_type": "text"
      },
      "source": [
        "<a href=\"https://colab.research.google.com/github/smenaaliaga/Magister/blob/master/Tarea_31_Mayo_Estadistica.ipynb\" target=\"_parent\"><img src=\"https://colab.research.google.com/assets/colab-badge.svg\" alt=\"Open In Colab\"/></a>"
      ]
    },
    {
      "cell_type": "markdown",
      "metadata": {
        "id": "vUFckgtQhzma",
        "colab_type": "text"
      },
      "source": [
        "# Tarea Computación Estadística\n",
        "#### Magister en Estadística - PUCV\n",
        "### Sebastián Andrés Mena Aliaga\n",
        "##### 31 de Mayo del 2020"
      ]
    },
    {
      "cell_type": "markdown",
      "metadata": {
        "id": "o48pJdXGqOg0",
        "colab_type": "text"
      },
      "source": [
        "## Enunciado\n",
        "\n",
        "\n",
        "\n",
        "1.   Describir en qué consiste la técnica de k-fold Cross Validation\n",
        "2.   ¿Cómo podría aplicarse al método de k-vecinos más cercanos? \n",
        "3.   Modificar el código construido en clases para implementar esta técnica.\n",
        "\n"
      ]
    },
    {
      "cell_type": "markdown",
      "metadata": {
        "id": "0e_ZQjGKrlU0",
        "colab_type": "text"
      },
      "source": [
        "## 0. Un poco sobre Statistical Learning\n",
        "\n",
        "En lenguaje de *Machine Learning* a los inputs se les llama *predictores* o, también llamados *variables independientes*. Y a la inputs llamado *respuesta* o, clasicamente llamado *variable dependiente*. Se denota típicamente como X a los inputs, Y como el output cuantitativo y G como el output cualitativo.\n",
        "\n",
        "Cuando se desarrollan y aplican modelos de aprendizaje estadístico es importante tomar en cuenta la capacidad que posee el modelo de generalizar, osea, el rendimiento de generalización; esto es importante debido a que nos permite medir la calidad predictiva de nuestro modelo.\n",
        "\n",
        "Considerese el vector X como valores de entrada del modelo y la variable objetivo Y, además, se define f(X) como la función del modelo obtenido gracias a una muestra m de entrenamiento. Luego, se puede calcular la función de perdida para medir los errores del modelo entre Y y f(X), notado como L(Y, f(X)), entendiedose como una forma de penalizar el error de predicción incorrecta.\n",
        "\n",
        "Además, se puede calcular el error del test o *error de generalzación*, entendida como el error de predicción sobre una muestra independiente, ERRORm = E( L(Y, f(X)) / m). \n",
        "\n"
      ]
    },
    {
      "cell_type": "markdown",
      "metadata": {
        "id": "sZuv4iJ5Y9s7",
        "colab_type": "text"
      },
      "source": [
        "## 1. Describir en qué consiste la técnica de k-fold Cross Validation\n",
        "\n",
        "El caso K-Folds Cross Validation es una situación especifica utilizada cuando no se poseen los suficientes datos como para evaluar el desempeño a través de un conjunto de validación. El método K-fold utiliza parte de los datos disponibles para ajustar el modelo y otro para probarlo.\n",
        "\n",
        "Si dividimos el set en k partes iguales, tendremos k - 1 sets para ajustar el modelo y un set para calcular el error de predicción. Entonces, se denota como f -k(X) la función del modelo sin considerar la k-esima parta de set, luego, contamos con k funciones de modelos diferentes, osea, podemos calcular k errores de generalización. Se define la validación cruzada para la estimación del error de predicción como el promedio simple de los k errores de generalización.\n",
        "\n",
        "En The Elements of Statistical Learning considera un buen número de k's entre 5 y 10 incluyente."
      ]
    },
    {
      "cell_type": "markdown",
      "metadata": {
        "id": "qIhERXyqP9Pe",
        "colab_type": "text"
      },
      "source": [
        "## 2. ¿Cómo podría aplicarse al método de k-vecinos más cercanos?\n",
        "\n",
        "Tendría sentido utilizar la técnica de evaluación al método de k-vecinos más cercanos si, en primer lugar, se cuenta con una cantidad no tan grande de datos disponibles. Luego, ...."
      ]
    }
  ]
}