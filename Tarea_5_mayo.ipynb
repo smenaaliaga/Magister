{
  "nbformat": 4,
  "nbformat_minor": 0,
  "metadata": {
    "colab": {
      "name": "Tarea 5 mayo.ipynb",
      "provenance": [],
      "collapsed_sections": [],
      "authorship_tag": "ABX9TyOw9o9znn8YtjAtwO4hvtfB",
      "include_colab_link": true
    },
    "kernelspec": {
      "name": "python3",
      "display_name": "Python 3"
    }
  },
  "cells": [
    {
      "cell_type": "markdown",
      "metadata": {
        "id": "view-in-github",
        "colab_type": "text"
      },
      "source": [
        "<a href=\"https://colab.research.google.com/github/smenaaliaga/Magister/blob/master/Tarea_5_mayo.ipynb\" target=\"_parent\"><img src=\"https://colab.research.google.com/assets/colab-badge.svg\" alt=\"Open In Colab\"/></a>"
      ]
    },
    {
      "cell_type": "markdown",
      "metadata": {
        "id": "RRSZOo_UBzIq",
        "colab_type": "text"
      },
      "source": [
        "# Enunciado\n",
        "\n",
        "Si cuenta con n vectores de m dimensiones cada uno, todos representando una matriz X, que tiene naturalmente m filas y n columnas. ¿Cómo podría calcular la distancia de todos contra todos?\n",
        "\n",
        "\n",
        "*   Intente realizar con una matriz aleatoria\n",
        "*   Reflexione primero que dimensión tiene que tener la matriz que tiene todas las distancias\n"
      ]
    },
    {
      "cell_type": "code",
      "metadata": {
        "id": "YnuTb39k9ZKP",
        "colab_type": "code",
        "colab": {}
      },
      "source": [
        ""
      ],
      "execution_count": 0,
      "outputs": []
    }
  ]
}