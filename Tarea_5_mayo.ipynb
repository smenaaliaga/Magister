{
  "nbformat": 4,
  "nbformat_minor": 0,
  "metadata": {
    "colab": {
      "name": "Tarea 5 mayo.ipynb",
      "provenance": [],
      "collapsed_sections": [],
      "authorship_tag": "ABX9TyP6ZukR7P7eV/LcC8sV+EEW",
      "include_colab_link": true
    },
    "kernelspec": {
      "name": "python3",
      "display_name": "Python 3"
    }
  },
  "cells": [
    {
      "cell_type": "markdown",
      "metadata": {
        "id": "view-in-github",
        "colab_type": "text"
      },
      "source": [
        "<a href=\"https://colab.research.google.com/github/smenaaliaga/Magister/blob/master/Tarea_5_mayo.ipynb\" target=\"_parent\"><img src=\"https://colab.research.google.com/assets/colab-badge.svg\" alt=\"Open In Colab\"/></a>"
      ]
    },
    {
      "cell_type": "markdown",
      "metadata": {
        "id": "VA0OyLgpgFVR",
        "colab_type": "text"
      },
      "source": [
        "# Numpy\n",
        "\n",
        "Estudio sobre Numpy"
      ]
    },
    {
      "cell_type": "code",
      "metadata": {
        "id": "YnuTb39k9ZKP",
        "colab_type": "code",
        "colab": {}
      },
      "source": [
        "import numpy as np"
      ],
      "execution_count": 0,
      "outputs": []
    },
    {
      "cell_type": "code",
      "metadata": {
        "id": "FF0RJ-oDD_gs",
        "colab_type": "code",
        "outputId": "171f5ffe-724f-4b2e-de25-4554019c4707",
        "colab": {
          "base_uri": "https://localhost:8080/",
          "height": 34
        }
      },
      "source": [
        "d = np.array([0.10,1.01,0.87,1.15])\n",
        "d"
      ],
      "execution_count": 0,
      "outputs": [
        {
          "output_type": "execute_result",
          "data": {
            "text/plain": [
              "array([0.1 , 1.01, 0.87, 1.15])"
            ]
          },
          "metadata": {
            "tags": []
          },
          "execution_count": 2
        }
      ]
    },
    {
      "cell_type": "code",
      "metadata": {
        "id": "qvMm51BFfeOw",
        "colab_type": "code",
        "colab": {
          "base_uri": "https://localhost:8080/",
          "height": 51
        },
        "outputId": "67c0347a-be88-4e68-a040-20a6be758e03"
      },
      "source": [
        "np.random.rand(10)"
      ],
      "execution_count": 4,
      "outputs": [
        {
          "output_type": "execute_result",
          "data": {
            "text/plain": [
              "array([0.6239746 , 0.79326304, 0.24202129, 0.47603124, 0.37157055,\n",
              "       0.89737269, 0.24877031, 0.81019625, 0.42381051, 0.61192605])"
            ]
          },
          "metadata": {
            "tags": []
          },
          "execution_count": 4
        }
      ]
    },
    {
      "cell_type": "code",
      "metadata": {
        "id": "lQnQLBuNgfHY",
        "colab_type": "code",
        "colab": {
          "base_uri": "https://localhost:8080/",
          "height": 34
        },
        "outputId": "01262307-8c90-476e-81eb-7a136f2e4f48"
      },
      "source": [
        "np.random.randint(5, size=10)"
      ],
      "execution_count": 6,
      "outputs": [
        {
          "output_type": "execute_result",
          "data": {
            "text/plain": [
              "array([4, 1, 0, 3, 1, 1, 2, 1, 0, 2])"
            ]
          },
          "metadata": {
            "tags": []
          },
          "execution_count": 6
        }
      ]
    },
    {
      "cell_type": "code",
      "metadata": {
        "id": "pewX5gy_hU-N",
        "colab_type": "code",
        "colab": {
          "base_uri": "https://localhost:8080/",
          "height": 102
        },
        "outputId": "e6c2e05a-55bd-4ea9-8c40-f5ac9bd4243d"
      },
      "source": [
        "np.random.rand(5,5)"
      ],
      "execution_count": 7,
      "outputs": [
        {
          "output_type": "execute_result",
          "data": {
            "text/plain": [
              "array([[0.36697489, 0.86763806, 0.52035559, 0.55373461, 0.41004846],\n",
              "       [0.34214626, 0.99797798, 0.40678998, 0.54530956, 0.37350859],\n",
              "       [0.78488866, 0.81512723, 0.32976217, 0.78998721, 0.2711829 ],\n",
              "       [0.20031115, 0.55387412, 0.63398507, 0.35079289, 0.66296762],\n",
              "       [0.0867747 , 0.61955415, 0.57730682, 0.28989092, 0.78104825]])"
            ]
          },
          "metadata": {
            "tags": []
          },
          "execution_count": 7
        }
      ]
    },
    {
      "cell_type": "code",
      "metadata": {
        "id": "KIwxjkfZikVg",
        "colab_type": "code",
        "colab": {
          "base_uri": "https://localhost:8080/",
          "height": 51
        },
        "outputId": "c1e28ddf-fee6-4d00-b279-8b93711c7cab"
      },
      "source": [
        "# Guardar vector\n",
        "A = np.random.rand(6)\n",
        "A"
      ],
      "execution_count": 12,
      "outputs": [
        {
          "output_type": "execute_result",
          "data": {
            "text/plain": [
              "array([0.92012606, 0.55249623, 0.68251173, 0.54802848, 0.70223047,\n",
              "       0.30023923])"
            ]
          },
          "metadata": {
            "tags": []
          },
          "execution_count": 12
        }
      ]
    },
    {
      "cell_type": "code",
      "metadata": {
        "id": "ta3XSkGJi0LC",
        "colab_type": "code",
        "colab": {
          "base_uri": "https://localhost:8080/",
          "height": 34
        },
        "outputId": "631e8f5d-227d-46d3-fadc-b15946b390b1"
      },
      "source": [
        "# Obtener una posición del vecotr\n",
        "A[0]"
      ],
      "execution_count": 13,
      "outputs": [
        {
          "output_type": "execute_result",
          "data": {
            "text/plain": [
              "0.9201260560547986"
            ]
          },
          "metadata": {
            "tags": []
          },
          "execution_count": 13
        }
      ]
    },
    {
      "cell_type": "code",
      "metadata": {
        "id": "MFWn6rGjkLbu",
        "colab_type": "code",
        "colab": {
          "base_uri": "https://localhost:8080/",
          "height": 102
        },
        "outputId": "6661c7af-5d00-44c0-9dd4-c571108be8c7"
      },
      "source": [
        "# Guardar una matriz\n",
        "A = np.random.rand(5,5)\n",
        "A"
      ],
      "execution_count": 16,
      "outputs": [
        {
          "output_type": "execute_result",
          "data": {
            "text/plain": [
              "array([[0.88807858, 0.07603903, 0.05599571, 0.78503521, 0.39758466],\n",
              "       [0.55260775, 0.77736437, 0.07283086, 0.38379371, 0.09126811],\n",
              "       [0.0476451 , 0.25996577, 0.14625926, 0.50300847, 0.27519058],\n",
              "       [0.83868379, 0.13061946, 0.01491973, 0.94141166, 0.13855648],\n",
              "       [0.30659891, 0.77320317, 0.93796956, 0.31253441, 0.03515974]])"
            ]
          },
          "metadata": {
            "tags": []
          },
          "execution_count": 16
        }
      ]
    },
    {
      "cell_type": "code",
      "metadata": {
        "id": "g1oNh00fnSUX",
        "colab_type": "code",
        "colab": {
          "base_uri": "https://localhost:8080/",
          "height": 51
        },
        "outputId": "a1abd95f-8347-41f4-ad8b-c52d144e9ffb"
      },
      "source": [
        "# Obtener rebanada entre fila 0 y 2 y las columnas 1 y 3\n",
        "A[0:2,1:3]"
      ],
      "execution_count": 17,
      "outputs": [
        {
          "output_type": "execute_result",
          "data": {
            "text/plain": [
              "array([[0.07603903, 0.05599571],\n",
              "       [0.77736437, 0.07283086]])"
            ]
          },
          "metadata": {
            "tags": []
          },
          "execution_count": 17
        }
      ]
    },
    {
      "cell_type": "code",
      "metadata": {
        "id": "6ZKv4S6unbDS",
        "colab_type": "code",
        "colab": {
          "base_uri": "https://localhost:8080/",
          "height": 34
        },
        "outputId": "9dd9c084-d25d-41ed-985f-0b64aabad9ea"
      },
      "source": [
        "# Obtener toda las filas de la segunda columna\n",
        "A[:,1]"
      ],
      "execution_count": 18,
      "outputs": [
        {
          "output_type": "execute_result",
          "data": {
            "text/plain": [
              "array([0.07603903, 0.77736437, 0.25996577, 0.13061946, 0.77320317])"
            ]
          },
          "metadata": {
            "tags": []
          },
          "execution_count": 18
        }
      ]
    },
    {
      "cell_type": "code",
      "metadata": {
        "id": "HgVPT94IrNel",
        "colab_type": "code",
        "colab": {
          "base_uri": "https://localhost:8080/",
          "height": 34
        },
        "outputId": "50a1f7e5-b2a2-4517-b701-f2ba7f615862"
      },
      "source": [
        "# Suma de filas o columnas. axis = 1: filas, 0: columnas\n",
        "np.sum(A, axis=1)"
      ],
      "execution_count": 19,
      "outputs": [
        {
          "output_type": "execute_result",
          "data": {
            "text/plain": [
              "array([2.20273319, 1.8778648 , 1.23206919, 2.06419112, 2.36546578])"
            ]
          },
          "metadata": {
            "tags": []
          },
          "execution_count": 19
        }
      ]
    },
    {
      "cell_type": "markdown",
      "metadata": {
        "id": "RRSZOo_UBzIq",
        "colab_type": "text"
      },
      "source": [
        "# Enunciado\n",
        "\n",
        "Si cuenta con n vectores de m dimensiones cada uno, todos representando una matriz X, que tiene naturalmente m filas y n columnas. ¿Cómo podría calcular la distancia de todos contra todos?\n",
        "\n",
        "\n",
        "*   Intente realizar con una matriz aleatoria\n",
        "*   Reflexione primero que dimensión tiene que tener la matriz que tiene todas las distancias\n"
      ]
    }
  ]
}