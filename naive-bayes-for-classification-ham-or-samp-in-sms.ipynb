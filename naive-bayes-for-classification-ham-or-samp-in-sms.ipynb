{
 "cells": [
  {
   "cell_type": "code",
   "execution_count": 1,
   "id": "53dbd130",
   "metadata": {
    "_cell_guid": "b1076dfc-b9ad-4769-8c92-a6c4dae69d19",
    "_uuid": "8f2839f25d086af736a60e9eeb907d3b93b6e0e5",
    "execution": {
     "iopub.execute_input": "2022-03-30T01:27:29.783399Z",
     "iopub.status.busy": "2022-03-30T01:27:29.782728Z",
     "iopub.status.idle": "2022-03-30T01:27:30.880581Z",
     "shell.execute_reply": "2022-03-30T01:27:30.879914Z",
     "shell.execute_reply.started": "2022-03-30T00:28:48.154620Z"
    },
    "papermill": {
     "duration": 1.12308,
     "end_time": "2022-03-30T01:27:30.880744",
     "exception": false,
     "start_time": "2022-03-30T01:27:29.757664",
     "status": "completed"
    },
    "tags": []
   },
   "outputs": [],
   "source": [
    "import numpy as np\n",
    "import pandas as pd\n",
    "import matplotlib.pyplot as plt\n",
    "\n",
    "from sklearn.model_selection import train_test_split, cross_val_score\n",
    "from sklearn.naive_bayes import MultinomialNB\n",
    "from sklearn.metrics import accuracy_score, confusion_matrix"
   ]
  },
  {
   "cell_type": "code",
   "execution_count": 2,
   "id": "1353c79a",
   "metadata": {
    "execution": {
     "iopub.execute_input": "2022-03-30T01:27:30.916417Z",
     "iopub.status.busy": "2022-03-30T01:27:30.915764Z",
     "iopub.status.idle": "2022-03-30T01:27:30.966579Z",
     "shell.execute_reply": "2022-03-30T01:27:30.967067Z",
     "shell.execute_reply.started": "2022-03-30T00:28:58.290678Z"
    },
    "papermill": {
     "duration": 0.070372,
     "end_time": "2022-03-30T01:27:30.967263",
     "exception": false,
     "start_time": "2022-03-30T01:27:30.896891",
     "status": "completed"
    },
    "tags": []
   },
   "outputs": [
    {
     "data": {
      "text/html": [
       "<div>\n",
       "<style scoped>\n",
       "    .dataframe tbody tr th:only-of-type {\n",
       "        vertical-align: middle;\n",
       "    }\n",
       "\n",
       "    .dataframe tbody tr th {\n",
       "        vertical-align: top;\n",
       "    }\n",
       "\n",
       "    .dataframe thead th {\n",
       "        text-align: right;\n",
       "    }\n",
       "</style>\n",
       "<table border=\"1\" class=\"dataframe\">\n",
       "  <thead>\n",
       "    <tr style=\"text-align: right;\">\n",
       "      <th></th>\n",
       "      <th>v1</th>\n",
       "      <th>v2</th>\n",
       "      <th>Unnamed: 2</th>\n",
       "      <th>Unnamed: 3</th>\n",
       "      <th>Unnamed: 4</th>\n",
       "    </tr>\n",
       "  </thead>\n",
       "  <tbody>\n",
       "    <tr>\n",
       "      <th>0</th>\n",
       "      <td>ham</td>\n",
       "      <td>Go until jurong point, crazy.. Available only ...</td>\n",
       "      <td>NaN</td>\n",
       "      <td>NaN</td>\n",
       "      <td>NaN</td>\n",
       "    </tr>\n",
       "    <tr>\n",
       "      <th>1</th>\n",
       "      <td>ham</td>\n",
       "      <td>Ok lar... Joking wif u oni...</td>\n",
       "      <td>NaN</td>\n",
       "      <td>NaN</td>\n",
       "      <td>NaN</td>\n",
       "    </tr>\n",
       "    <tr>\n",
       "      <th>2</th>\n",
       "      <td>spam</td>\n",
       "      <td>Free entry in 2 a wkly comp to win FA Cup fina...</td>\n",
       "      <td>NaN</td>\n",
       "      <td>NaN</td>\n",
       "      <td>NaN</td>\n",
       "    </tr>\n",
       "    <tr>\n",
       "      <th>3</th>\n",
       "      <td>ham</td>\n",
       "      <td>U dun say so early hor... U c already then say...</td>\n",
       "      <td>NaN</td>\n",
       "      <td>NaN</td>\n",
       "      <td>NaN</td>\n",
       "    </tr>\n",
       "    <tr>\n",
       "      <th>4</th>\n",
       "      <td>ham</td>\n",
       "      <td>Nah I don't think he goes to usf, he lives aro...</td>\n",
       "      <td>NaN</td>\n",
       "      <td>NaN</td>\n",
       "      <td>NaN</td>\n",
       "    </tr>\n",
       "  </tbody>\n",
       "</table>\n",
       "</div>"
      ],
      "text/plain": [
       "     v1                                                 v2 Unnamed: 2  \\\n",
       "0   ham  Go until jurong point, crazy.. Available only ...        NaN   \n",
       "1   ham                      Ok lar... Joking wif u oni...        NaN   \n",
       "2  spam  Free entry in 2 a wkly comp to win FA Cup fina...        NaN   \n",
       "3   ham  U dun say so early hor... U c already then say...        NaN   \n",
       "4   ham  Nah I don't think he goes to usf, he lives aro...        NaN   \n",
       "\n",
       "  Unnamed: 3 Unnamed: 4  \n",
       "0        NaN        NaN  \n",
       "1        NaN        NaN  \n",
       "2        NaN        NaN  \n",
       "3        NaN        NaN  \n",
       "4        NaN        NaN  "
      ]
     },
     "execution_count": 2,
     "metadata": {},
     "output_type": "execute_result"
    }
   ],
   "source": [
    "df = pd.read_csv('/kaggle/input/sms-spam-collection-dataset/spam.csv', encoding='latin-1')\n",
    "df.head()"
   ]
  },
  {
   "cell_type": "code",
   "execution_count": 3,
   "id": "ce0ef445",
   "metadata": {
    "execution": {
     "iopub.execute_input": "2022-03-30T01:27:31.011853Z",
     "iopub.status.busy": "2022-03-30T01:27:31.010996Z",
     "iopub.status.idle": "2022-03-30T01:27:31.015905Z",
     "shell.execute_reply": "2022-03-30T01:27:31.015401Z",
     "shell.execute_reply.started": "2022-03-30T00:29:00.556030Z"
    },
    "papermill": {
     "duration": 0.033647,
     "end_time": "2022-03-30T01:27:31.016056",
     "exception": false,
     "start_time": "2022-03-30T01:27:30.982409",
     "status": "completed"
    },
    "tags": []
   },
   "outputs": [
    {
     "data": {
      "text/html": [
       "<div>\n",
       "<style scoped>\n",
       "    .dataframe tbody tr th:only-of-type {\n",
       "        vertical-align: middle;\n",
       "    }\n",
       "\n",
       "    .dataframe tbody tr th {\n",
       "        vertical-align: top;\n",
       "    }\n",
       "\n",
       "    .dataframe thead th {\n",
       "        text-align: right;\n",
       "    }\n",
       "</style>\n",
       "<table border=\"1\" class=\"dataframe\">\n",
       "  <thead>\n",
       "    <tr style=\"text-align: right;\">\n",
       "      <th></th>\n",
       "      <th>v1</th>\n",
       "      <th>v2</th>\n",
       "    </tr>\n",
       "  </thead>\n",
       "  <tbody>\n",
       "    <tr>\n",
       "      <th>0</th>\n",
       "      <td>ham</td>\n",
       "      <td>Go until jurong point, crazy.. Available only ...</td>\n",
       "    </tr>\n",
       "    <tr>\n",
       "      <th>1</th>\n",
       "      <td>ham</td>\n",
       "      <td>Ok lar... Joking wif u oni...</td>\n",
       "    </tr>\n",
       "    <tr>\n",
       "      <th>2</th>\n",
       "      <td>spam</td>\n",
       "      <td>Free entry in 2 a wkly comp to win FA Cup fina...</td>\n",
       "    </tr>\n",
       "    <tr>\n",
       "      <th>3</th>\n",
       "      <td>ham</td>\n",
       "      <td>U dun say so early hor... U c already then say...</td>\n",
       "    </tr>\n",
       "    <tr>\n",
       "      <th>4</th>\n",
       "      <td>ham</td>\n",
       "      <td>Nah I don't think he goes to usf, he lives aro...</td>\n",
       "    </tr>\n",
       "  </tbody>\n",
       "</table>\n",
       "</div>"
      ],
      "text/plain": [
       "     v1                                                 v2\n",
       "0   ham  Go until jurong point, crazy.. Available only ...\n",
       "1   ham                      Ok lar... Joking wif u oni...\n",
       "2  spam  Free entry in 2 a wkly comp to win FA Cup fina...\n",
       "3   ham  U dun say so early hor... U c already then say...\n",
       "4   ham  Nah I don't think he goes to usf, he lives aro..."
      ]
     },
     "execution_count": 3,
     "metadata": {},
     "output_type": "execute_result"
    }
   ],
   "source": [
    "df = df[['v1','v2']]\n",
    "df.head()"
   ]
  },
  {
   "cell_type": "code",
   "execution_count": 4,
   "id": "38e676a3",
   "metadata": {
    "execution": {
     "iopub.execute_input": "2022-03-30T01:27:31.052234Z",
     "iopub.status.busy": "2022-03-30T01:27:31.051585Z",
     "iopub.status.idle": "2022-03-30T01:27:32.879857Z",
     "shell.execute_reply": "2022-03-30T01:27:32.878454Z",
     "shell.execute_reply.started": "2022-03-30T00:29:02.505968Z"
    },
    "papermill": {
     "duration": 1.846499,
     "end_time": "2022-03-30T01:27:32.880060",
     "exception": false,
     "start_time": "2022-03-30T01:27:31.033561",
     "status": "completed"
    },
    "tags": []
   },
   "outputs": [
    {
     "data": {
      "text/html": [
       "<div>\n",
       "<style scoped>\n",
       "    .dataframe tbody tr th:only-of-type {\n",
       "        vertical-align: middle;\n",
       "    }\n",
       "\n",
       "    .dataframe tbody tr th {\n",
       "        vertical-align: top;\n",
       "    }\n",
       "\n",
       "    .dataframe thead th {\n",
       "        text-align: right;\n",
       "    }\n",
       "</style>\n",
       "<table border=\"1\" class=\"dataframe\">\n",
       "  <thead>\n",
       "    <tr style=\"text-align: right;\">\n",
       "      <th></th>\n",
       "      <th>v1</th>\n",
       "      <th>v2</th>\n",
       "    </tr>\n",
       "  </thead>\n",
       "  <tbody>\n",
       "    <tr>\n",
       "      <th>0</th>\n",
       "      <td>ham</td>\n",
       "      <td>go until jurong point crazy available only in ...</td>\n",
       "    </tr>\n",
       "    <tr>\n",
       "      <th>1</th>\n",
       "      <td>ham</td>\n",
       "      <td>ok lar joking wif u oni</td>\n",
       "    </tr>\n",
       "    <tr>\n",
       "      <th>2</th>\n",
       "      <td>spam</td>\n",
       "      <td>free entry in 2 a wkly comp to win fa cup fina...</td>\n",
       "    </tr>\n",
       "    <tr>\n",
       "      <th>3</th>\n",
       "      <td>ham</td>\n",
       "      <td>u dun say so early hor u c already then say</td>\n",
       "    </tr>\n",
       "    <tr>\n",
       "      <th>4</th>\n",
       "      <td>ham</td>\n",
       "      <td>nah i don't think he goes to usf he lives arou...</td>\n",
       "    </tr>\n",
       "  </tbody>\n",
       "</table>\n",
       "</div>"
      ],
      "text/plain": [
       "     v1                                                 v2\n",
       "0   ham  go until jurong point crazy available only in ...\n",
       "1   ham                            ok lar joking wif u oni\n",
       "2  spam  free entry in 2 a wkly comp to win fa cup fina...\n",
       "3   ham        u dun say so early hor u c already then say\n",
       "4   ham  nah i don't think he goes to usf he lives arou..."
      ]
     },
     "execution_count": 4,
     "metadata": {},
     "output_type": "execute_result"
    }
   ],
   "source": [
    "# Replace special characters with nothing and apply lowercase in string fir each row\n",
    "special_char = '@_!#$%^&*()<>?/\\|}{~:.,;[]'\n",
    "for i, row in df.iterrows():\n",
    "    df.iloc[i, 1] = ''.join(x for x in df.iloc[i, 1] if not x in special_char)\n",
    "    df.iloc[i, 1] = df.iloc[i, 1].lower()\n",
    "df.head()"
   ]
  },
  {
   "cell_type": "code",
   "execution_count": 5,
   "id": "7e5b1d98",
   "metadata": {
    "execution": {
     "iopub.execute_input": "2022-03-30T01:27:32.969925Z",
     "iopub.status.busy": "2022-03-30T01:27:32.954417Z",
     "iopub.status.idle": "2022-03-30T01:27:35.020513Z",
     "shell.execute_reply": "2022-03-30T01:27:35.021541Z",
     "shell.execute_reply.started": "2022-03-30T00:30:02.906297Z"
    },
    "papermill": {
     "duration": 2.1253,
     "end_time": "2022-03-30T01:27:35.021868",
     "exception": false,
     "start_time": "2022-03-30T01:27:32.896568",
     "status": "completed"
    },
    "tags": []
   },
   "outputs": [
    {
     "name": "stdout",
     "output_type": "stream",
     "text": [
      "n all words: 86961\n",
      "n uniques words: 9877\n"
     ]
    }
   ],
   "source": [
    "# Get uniques words from all text in sms dataframe\n",
    "all_words = []\n",
    "for i, row in df.iterrows():\n",
    "    list_words = df.iloc[i, 1].split(' ')\n",
    "    all_words = all_words + list_words\n",
    "all_words = pd.DataFrame(all_words)\n",
    "print('n all words:', all_words.shape[0])\n",
    "uniques_words = all_words[0].unique()\n",
    "print('n uniques words:', uniques_words.shape[0])"
   ]
  },
  {
   "cell_type": "code",
   "execution_count": 6,
   "id": "9aa81b60",
   "metadata": {
    "execution": {
     "iopub.execute_input": "2022-03-30T01:27:35.063974Z",
     "iopub.status.busy": "2022-03-30T01:27:35.063263Z",
     "iopub.status.idle": "2022-03-30T01:34:47.712041Z",
     "shell.execute_reply": "2022-03-30T01:34:47.712550Z",
     "shell.execute_reply.started": "2022-03-30T00:30:08.878424Z"
    },
    "papermill": {
     "duration": 432.672679,
     "end_time": "2022-03-30T01:34:47.712728",
     "exception": false,
     "start_time": "2022-03-30T01:27:35.040049",
     "status": "completed"
    },
    "tags": []
   },
   "outputs": [
    {
     "data": {
      "text/html": [
       "<div>\n",
       "<style scoped>\n",
       "    .dataframe tbody tr th:only-of-type {\n",
       "        vertical-align: middle;\n",
       "    }\n",
       "\n",
       "    .dataframe tbody tr th {\n",
       "        vertical-align: top;\n",
       "    }\n",
       "\n",
       "    .dataframe thead th {\n",
       "        text-align: right;\n",
       "    }\n",
       "</style>\n",
       "<table border=\"1\" class=\"dataframe\">\n",
       "  <thead>\n",
       "    <tr style=\"text-align: right;\">\n",
       "      <th></th>\n",
       "      <th>go</th>\n",
       "      <th>until</th>\n",
       "      <th>jurong</th>\n",
       "      <th>point</th>\n",
       "      <th>crazy</th>\n",
       "      <th>available</th>\n",
       "      <th>only</th>\n",
       "      <th>in</th>\n",
       "      <th>bugis</th>\n",
       "      <th>n</th>\n",
       "      <th>...</th>\n",
       "      <th>heap</th>\n",
       "      <th>lowes</th>\n",
       "      <th>salesman</th>\n",
       "      <th>å£750</th>\n",
       "      <th>087187272008</th>\n",
       "      <th>now1</th>\n",
       "      <th>pity</th>\n",
       "      <th>soany</th>\n",
       "      <th>suggestions</th>\n",
       "      <th>bitching</th>\n",
       "    </tr>\n",
       "  </thead>\n",
       "  <tbody>\n",
       "    <tr>\n",
       "      <th>0</th>\n",
       "      <td>1</td>\n",
       "      <td>1</td>\n",
       "      <td>1</td>\n",
       "      <td>1</td>\n",
       "      <td>1</td>\n",
       "      <td>1</td>\n",
       "      <td>1</td>\n",
       "      <td>1</td>\n",
       "      <td>1</td>\n",
       "      <td>1</td>\n",
       "      <td>...</td>\n",
       "      <td>0</td>\n",
       "      <td>0</td>\n",
       "      <td>0</td>\n",
       "      <td>0</td>\n",
       "      <td>0</td>\n",
       "      <td>0</td>\n",
       "      <td>0</td>\n",
       "      <td>0</td>\n",
       "      <td>0</td>\n",
       "      <td>0</td>\n",
       "    </tr>\n",
       "    <tr>\n",
       "      <th>1</th>\n",
       "      <td>0</td>\n",
       "      <td>0</td>\n",
       "      <td>0</td>\n",
       "      <td>0</td>\n",
       "      <td>0</td>\n",
       "      <td>0</td>\n",
       "      <td>0</td>\n",
       "      <td>0</td>\n",
       "      <td>0</td>\n",
       "      <td>0</td>\n",
       "      <td>...</td>\n",
       "      <td>0</td>\n",
       "      <td>0</td>\n",
       "      <td>0</td>\n",
       "      <td>0</td>\n",
       "      <td>0</td>\n",
       "      <td>0</td>\n",
       "      <td>0</td>\n",
       "      <td>0</td>\n",
       "      <td>0</td>\n",
       "      <td>0</td>\n",
       "    </tr>\n",
       "    <tr>\n",
       "      <th>2</th>\n",
       "      <td>0</td>\n",
       "      <td>0</td>\n",
       "      <td>0</td>\n",
       "      <td>0</td>\n",
       "      <td>0</td>\n",
       "      <td>0</td>\n",
       "      <td>0</td>\n",
       "      <td>1</td>\n",
       "      <td>0</td>\n",
       "      <td>0</td>\n",
       "      <td>...</td>\n",
       "      <td>0</td>\n",
       "      <td>0</td>\n",
       "      <td>0</td>\n",
       "      <td>0</td>\n",
       "      <td>0</td>\n",
       "      <td>0</td>\n",
       "      <td>0</td>\n",
       "      <td>0</td>\n",
       "      <td>0</td>\n",
       "      <td>0</td>\n",
       "    </tr>\n",
       "    <tr>\n",
       "      <th>3</th>\n",
       "      <td>0</td>\n",
       "      <td>0</td>\n",
       "      <td>0</td>\n",
       "      <td>0</td>\n",
       "      <td>0</td>\n",
       "      <td>0</td>\n",
       "      <td>0</td>\n",
       "      <td>0</td>\n",
       "      <td>0</td>\n",
       "      <td>0</td>\n",
       "      <td>...</td>\n",
       "      <td>0</td>\n",
       "      <td>0</td>\n",
       "      <td>0</td>\n",
       "      <td>0</td>\n",
       "      <td>0</td>\n",
       "      <td>0</td>\n",
       "      <td>0</td>\n",
       "      <td>0</td>\n",
       "      <td>0</td>\n",
       "      <td>0</td>\n",
       "    </tr>\n",
       "    <tr>\n",
       "      <th>4</th>\n",
       "      <td>0</td>\n",
       "      <td>0</td>\n",
       "      <td>0</td>\n",
       "      <td>0</td>\n",
       "      <td>0</td>\n",
       "      <td>0</td>\n",
       "      <td>0</td>\n",
       "      <td>0</td>\n",
       "      <td>0</td>\n",
       "      <td>0</td>\n",
       "      <td>...</td>\n",
       "      <td>0</td>\n",
       "      <td>0</td>\n",
       "      <td>0</td>\n",
       "      <td>0</td>\n",
       "      <td>0</td>\n",
       "      <td>0</td>\n",
       "      <td>0</td>\n",
       "      <td>0</td>\n",
       "      <td>0</td>\n",
       "      <td>0</td>\n",
       "    </tr>\n",
       "    <tr>\n",
       "      <th>...</th>\n",
       "      <td>...</td>\n",
       "      <td>...</td>\n",
       "      <td>...</td>\n",
       "      <td>...</td>\n",
       "      <td>...</td>\n",
       "      <td>...</td>\n",
       "      <td>...</td>\n",
       "      <td>...</td>\n",
       "      <td>...</td>\n",
       "      <td>...</td>\n",
       "      <td>...</td>\n",
       "      <td>...</td>\n",
       "      <td>...</td>\n",
       "      <td>...</td>\n",
       "      <td>...</td>\n",
       "      <td>...</td>\n",
       "      <td>...</td>\n",
       "      <td>...</td>\n",
       "      <td>...</td>\n",
       "      <td>...</td>\n",
       "      <td>...</td>\n",
       "    </tr>\n",
       "    <tr>\n",
       "      <th>5567</th>\n",
       "      <td>0</td>\n",
       "      <td>0</td>\n",
       "      <td>0</td>\n",
       "      <td>0</td>\n",
       "      <td>0</td>\n",
       "      <td>0</td>\n",
       "      <td>1</td>\n",
       "      <td>0</td>\n",
       "      <td>0</td>\n",
       "      <td>0</td>\n",
       "      <td>...</td>\n",
       "      <td>0</td>\n",
       "      <td>0</td>\n",
       "      <td>0</td>\n",
       "      <td>1</td>\n",
       "      <td>1</td>\n",
       "      <td>1</td>\n",
       "      <td>0</td>\n",
       "      <td>0</td>\n",
       "      <td>0</td>\n",
       "      <td>0</td>\n",
       "    </tr>\n",
       "    <tr>\n",
       "      <th>5568</th>\n",
       "      <td>0</td>\n",
       "      <td>0</td>\n",
       "      <td>0</td>\n",
       "      <td>0</td>\n",
       "      <td>0</td>\n",
       "      <td>0</td>\n",
       "      <td>0</td>\n",
       "      <td>0</td>\n",
       "      <td>0</td>\n",
       "      <td>0</td>\n",
       "      <td>...</td>\n",
       "      <td>0</td>\n",
       "      <td>0</td>\n",
       "      <td>0</td>\n",
       "      <td>0</td>\n",
       "      <td>0</td>\n",
       "      <td>0</td>\n",
       "      <td>0</td>\n",
       "      <td>0</td>\n",
       "      <td>0</td>\n",
       "      <td>0</td>\n",
       "    </tr>\n",
       "    <tr>\n",
       "      <th>5569</th>\n",
       "      <td>0</td>\n",
       "      <td>0</td>\n",
       "      <td>0</td>\n",
       "      <td>0</td>\n",
       "      <td>0</td>\n",
       "      <td>0</td>\n",
       "      <td>0</td>\n",
       "      <td>1</td>\n",
       "      <td>0</td>\n",
       "      <td>0</td>\n",
       "      <td>...</td>\n",
       "      <td>0</td>\n",
       "      <td>0</td>\n",
       "      <td>0</td>\n",
       "      <td>0</td>\n",
       "      <td>0</td>\n",
       "      <td>0</td>\n",
       "      <td>1</td>\n",
       "      <td>1</td>\n",
       "      <td>1</td>\n",
       "      <td>0</td>\n",
       "    </tr>\n",
       "    <tr>\n",
       "      <th>5570</th>\n",
       "      <td>0</td>\n",
       "      <td>0</td>\n",
       "      <td>0</td>\n",
       "      <td>0</td>\n",
       "      <td>0</td>\n",
       "      <td>0</td>\n",
       "      <td>0</td>\n",
       "      <td>1</td>\n",
       "      <td>0</td>\n",
       "      <td>0</td>\n",
       "      <td>...</td>\n",
       "      <td>0</td>\n",
       "      <td>0</td>\n",
       "      <td>0</td>\n",
       "      <td>0</td>\n",
       "      <td>0</td>\n",
       "      <td>0</td>\n",
       "      <td>0</td>\n",
       "      <td>0</td>\n",
       "      <td>0</td>\n",
       "      <td>1</td>\n",
       "    </tr>\n",
       "    <tr>\n",
       "      <th>5571</th>\n",
       "      <td>0</td>\n",
       "      <td>0</td>\n",
       "      <td>0</td>\n",
       "      <td>0</td>\n",
       "      <td>0</td>\n",
       "      <td>0</td>\n",
       "      <td>0</td>\n",
       "      <td>0</td>\n",
       "      <td>0</td>\n",
       "      <td>0</td>\n",
       "      <td>...</td>\n",
       "      <td>0</td>\n",
       "      <td>0</td>\n",
       "      <td>0</td>\n",
       "      <td>0</td>\n",
       "      <td>0</td>\n",
       "      <td>0</td>\n",
       "      <td>0</td>\n",
       "      <td>0</td>\n",
       "      <td>0</td>\n",
       "      <td>0</td>\n",
       "    </tr>\n",
       "  </tbody>\n",
       "</table>\n",
       "<p>5572 rows × 9877 columns</p>\n",
       "</div>"
      ],
      "text/plain": [
       "      go  until  jurong  point  crazy  available  only  in  bugis  n  ...  \\\n",
       "0      1      1       1      1      1          1     1   1      1  1  ...   \n",
       "1      0      0       0      0      0          0     0   0      0  0  ...   \n",
       "2      0      0       0      0      0          0     0   1      0  0  ...   \n",
       "3      0      0       0      0      0          0     0   0      0  0  ...   \n",
       "4      0      0       0      0      0          0     0   0      0  0  ...   \n",
       "...   ..    ...     ...    ...    ...        ...   ...  ..    ... ..  ...   \n",
       "5567   0      0       0      0      0          0     1   0      0  0  ...   \n",
       "5568   0      0       0      0      0          0     0   0      0  0  ...   \n",
       "5569   0      0       0      0      0          0     0   1      0  0  ...   \n",
       "5570   0      0       0      0      0          0     0   1      0  0  ...   \n",
       "5571   0      0       0      0      0          0     0   0      0  0  ...   \n",
       "\n",
       "      heap  lowes  salesman  å£750  087187272008  now1  pity  soany  \\\n",
       "0        0      0         0      0             0     0     0      0   \n",
       "1        0      0         0      0             0     0     0      0   \n",
       "2        0      0         0      0             0     0     0      0   \n",
       "3        0      0         0      0             0     0     0      0   \n",
       "4        0      0         0      0             0     0     0      0   \n",
       "...    ...    ...       ...    ...           ...   ...   ...    ...   \n",
       "5567     0      0         0      1             1     1     0      0   \n",
       "5568     0      0         0      0             0     0     0      0   \n",
       "5569     0      0         0      0             0     0     1      1   \n",
       "5570     0      0         0      0             0     0     0      0   \n",
       "5571     0      0         0      0             0     0     0      0   \n",
       "\n",
       "      suggestions  bitching  \n",
       "0               0         0  \n",
       "1               0         0  \n",
       "2               0         0  \n",
       "3               0         0  \n",
       "4               0         0  \n",
       "...           ...       ...  \n",
       "5567            0         0  \n",
       "5568            0         0  \n",
       "5569            1         0  \n",
       "5570            0         1  \n",
       "5571            0         0  \n",
       "\n",
       "[5572 rows x 9877 columns]"
      ]
     },
     "execution_count": 6,
     "metadata": {},
     "output_type": "execute_result"
    }
   ],
   "source": [
    "# Create X df with the count for each word from the sms text\n",
    "y = df.iloc[:,0]\n",
    "X = pd.DataFrame(0, index=df.index, columns=uniques_words)\n",
    "for i, row in df.iterrows() :\n",
    "    list_words = row[1].split(' ')\n",
    "    for word in list_words :\n",
    "        X.loc[i,[word]] = X.loc[i,[word]] + [1 for col in X.columns if word == col]\n",
    "X"
   ]
  },
  {
   "cell_type": "code",
   "execution_count": 7,
   "id": "71f36010",
   "metadata": {
    "execution": {
     "iopub.execute_input": "2022-03-30T01:34:47.874277Z",
     "iopub.status.busy": "2022-03-30T01:34:47.751812Z",
     "iopub.status.idle": "2022-03-30T01:34:47.931283Z",
     "shell.execute_reply": "2022-03-30T01:34:47.931762Z",
     "shell.execute_reply.started": "2022-03-30T00:41:39.462252Z"
    },
    "papermill": {
     "duration": 0.202341,
     "end_time": "2022-03-30T01:34:47.931920",
     "exception": false,
     "start_time": "2022-03-30T01:34:47.729579",
     "status": "completed"
    },
    "tags": []
   },
   "outputs": [
    {
     "data": {
      "text/plain": [
       "((3900, 9877), (3900,), (1672, 9877), (1672,))"
      ]
     },
     "execution_count": 7,
     "metadata": {},
     "output_type": "execute_result"
    }
   ],
   "source": [
    "X_train, X_test, y_train, y_test = train_test_split(X, y, test_size = .3)\n",
    "X_train.shape, y_train.shape, X_test.shape, y_test.shape"
   ]
  },
  {
   "cell_type": "code",
   "execution_count": 8,
   "id": "a64309a9",
   "metadata": {
    "execution": {
     "iopub.execute_input": "2022-03-30T01:34:47.971640Z",
     "iopub.status.busy": "2022-03-30T01:34:47.971031Z",
     "iopub.status.idle": "2022-03-30T01:34:48.519906Z",
     "shell.execute_reply": "2022-03-30T01:34:48.520357Z",
     "shell.execute_reply.started": "2022-03-30T00:52:38.271208Z"
    },
    "papermill": {
     "duration": 0.571268,
     "end_time": "2022-03-30T01:34:48.520561",
     "exception": false,
     "start_time": "2022-03-30T01:34:47.949293",
     "status": "completed"
    },
    "tags": []
   },
   "outputs": [
    {
     "data": {
      "text/plain": [
       "MultinomialNB()"
      ]
     },
     "execution_count": 8,
     "metadata": {},
     "output_type": "execute_result"
    }
   ],
   "source": [
    "clf = MultinomialNB()\n",
    "clf.fit(X_train, y_train)"
   ]
  },
  {
   "cell_type": "code",
   "execution_count": 9,
   "id": "2882ca06",
   "metadata": {
    "execution": {
     "iopub.execute_input": "2022-03-30T01:34:48.606110Z",
     "iopub.status.busy": "2022-03-30T01:34:48.565013Z",
     "iopub.status.idle": "2022-03-30T01:34:48.731536Z",
     "shell.execute_reply": "2022-03-30T01:34:48.732335Z",
     "shell.execute_reply.started": "2022-03-30T01:18:09.830160Z"
    },
    "papermill": {
     "duration": 0.194095,
     "end_time": "2022-03-30T01:34:48.732605",
     "exception": false,
     "start_time": "2022-03-30T01:34:48.538510",
     "status": "completed"
    },
    "tags": []
   },
   "outputs": [
    {
     "data": {
      "text/plain": [
       "array([[9.99999849e-01, 1.51325499e-07],\n",
       "       [9.99998545e-01, 1.45450430e-06],\n",
       "       [1.00000000e+00, 1.99572171e-37],\n",
       "       ...,\n",
       "       [9.99976501e-01, 2.34987279e-05],\n",
       "       [9.99807717e-01, 1.92282736e-04],\n",
       "       [9.99818705e-01, 1.81295241e-04]])"
      ]
     },
     "execution_count": 9,
     "metadata": {},
     "output_type": "execute_result"
    }
   ],
   "source": [
    "clf.predict_proba(X_test)"
   ]
  },
  {
   "cell_type": "code",
   "execution_count": 10,
   "id": "e287f1a2",
   "metadata": {
    "execution": {
     "iopub.execute_input": "2022-03-30T01:34:48.812156Z",
     "iopub.status.busy": "2022-03-30T01:34:48.802915Z",
     "iopub.status.idle": "2022-03-30T01:34:48.975693Z",
     "shell.execute_reply": "2022-03-30T01:34:48.976827Z",
     "shell.execute_reply.started": "2022-03-30T01:11:00.348798Z"
    },
    "papermill": {
     "duration": 0.210818,
     "end_time": "2022-03-30T01:34:48.977106",
     "exception": false,
     "start_time": "2022-03-30T01:34:48.766288",
     "status": "completed"
    },
    "tags": []
   },
   "outputs": [
    {
     "data": {
      "text/plain": [
       "array(['ham', 'ham', 'ham', ..., 'ham', 'ham', 'ham'], dtype='<U4')"
      ]
     },
     "execution_count": 10,
     "metadata": {},
     "output_type": "execute_result"
    }
   ],
   "source": [
    "y_pred = clf.predict(X_test)\n",
    "y_pred"
   ]
  },
  {
   "cell_type": "code",
   "execution_count": 11,
   "id": "5b89e847",
   "metadata": {
    "execution": {
     "iopub.execute_input": "2022-03-30T01:34:49.059910Z",
     "iopub.status.busy": "2022-03-30T01:34:49.058830Z",
     "iopub.status.idle": "2022-03-30T01:34:58.622331Z",
     "shell.execute_reply": "2022-03-30T01:34:58.623421Z",
     "shell.execute_reply.started": "2022-03-30T01:08:08.629376Z"
    },
    "papermill": {
     "duration": 9.612149,
     "end_time": "2022-03-30T01:34:58.623700",
     "exception": false,
     "start_time": "2022-03-30T01:34:49.011551",
     "status": "completed"
    },
    "tags": []
   },
   "outputs": [
    {
     "data": {
      "text/plain": [
       "array([0.98387097, 0.97670251, 0.98025135, 0.97845601, 0.97486535,\n",
       "       0.97486535, 0.97127469, 0.98025135, 0.96947935, 0.98204668])"
      ]
     },
     "execution_count": 11,
     "metadata": {},
     "output_type": "execute_result"
    }
   ],
   "source": [
    "scores = cross_val_score(clf, X, y, scoring=\"accuracy\", cv=10)\n",
    "scores"
   ]
  },
  {
   "cell_type": "code",
   "execution_count": 12,
   "id": "a4ba2c2b",
   "metadata": {
    "execution": {
     "iopub.execute_input": "2022-03-30T01:34:58.706424Z",
     "iopub.status.busy": "2022-03-30T01:34:58.705357Z",
     "iopub.status.idle": "2022-03-30T01:34:58.715516Z",
     "shell.execute_reply": "2022-03-30T01:34:58.716869Z",
     "shell.execute_reply.started": "2022-03-30T01:14:15.630083Z"
    },
    "papermill": {
     "duration": 0.059039,
     "end_time": "2022-03-30T01:34:58.717151",
     "exception": false,
     "start_time": "2022-03-30T01:34:58.658112",
     "status": "completed"
    },
    "tags": []
   },
   "outputs": [
    {
     "data": {
      "text/plain": [
       "0.9760765550239234"
      ]
     },
     "execution_count": 12,
     "metadata": {},
     "output_type": "execute_result"
    }
   ],
   "source": [
    "accuracy_score(y_test, y_pred)"
   ]
  },
  {
   "cell_type": "code",
   "execution_count": 13,
   "id": "a8508038",
   "metadata": {
    "execution": {
     "iopub.execute_input": "2022-03-30T01:34:58.766170Z",
     "iopub.status.busy": "2022-03-30T01:34:58.763567Z",
     "iopub.status.idle": "2022-03-30T01:34:58.777380Z",
     "shell.execute_reply": "2022-03-30T01:34:58.777963Z",
     "shell.execute_reply.started": "2022-03-30T01:14:50.403845Z"
    },
    "papermill": {
     "duration": 0.036805,
     "end_time": "2022-03-30T01:34:58.778118",
     "exception": false,
     "start_time": "2022-03-30T01:34:58.741313",
     "status": "completed"
    },
    "tags": []
   },
   "outputs": [
    {
     "data": {
      "text/plain": [
       "array([[1418,   25],\n",
       "       [  15,  214]])"
      ]
     },
     "execution_count": 13,
     "metadata": {},
     "output_type": "execute_result"
    }
   ],
   "source": [
    "confusion_matrix(y_test, y_pred)"
   ]
  }
 ],
 "metadata": {
  "kernelspec": {
   "display_name": "Python 3",
   "language": "python",
   "name": "python3"
  },
  "language_info": {
   "codemirror_mode": {
    "name": "ipython",
    "version": 3
   },
   "file_extension": ".py",
   "mimetype": "text/x-python",
   "name": "python",
   "nbconvert_exporter": "python",
   "pygments_lexer": "ipython3",
   "version": "3.7.12"
  },
  "papermill": {
   "default_parameters": {},
   "duration": 459.252688,
   "end_time": "2022-03-30T01:34:59.407445",
   "environment_variables": {},
   "exception": null,
   "input_path": "__notebook__.ipynb",
   "output_path": "__notebook__.ipynb",
   "parameters": {},
   "start_time": "2022-03-30T01:27:20.154757",
   "version": "2.3.3"
  }
 },
 "nbformat": 4,
 "nbformat_minor": 5
}
