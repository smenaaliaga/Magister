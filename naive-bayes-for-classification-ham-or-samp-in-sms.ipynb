{
 "cells": [
  {
   "cell_type": "code",
   "execution_count": 1,
   "id": "ef20018e",
   "metadata": {
    "_cell_guid": "b1076dfc-b9ad-4769-8c92-a6c4dae69d19",
    "_uuid": "8f2839f25d086af736a60e9eeb907d3b93b6e0e5",
    "execution": {
     "iopub.execute_input": "2022-04-06T01:32:14.375770Z",
     "iopub.status.busy": "2022-04-06T01:32:14.375083Z",
     "iopub.status.idle": "2022-04-06T01:32:15.585704Z",
     "shell.execute_reply": "2022-04-06T01:32:15.584384Z",
     "shell.execute_reply.started": "2022-04-06T00:31:46.987493Z"
    },
    "papermill": {
     "duration": 1.244926,
     "end_time": "2022-04-06T01:32:15.585906",
     "exception": false,
     "start_time": "2022-04-06T01:32:14.340980",
     "status": "completed"
    },
    "tags": []
   },
   "outputs": [],
   "source": [
    "import numpy as np\n",
    "import pandas as pd\n",
    "import matplotlib.pyplot as plt\n",
    "\n",
    "from sklearn.model_selection import train_test_split, cross_val_score\n",
    "from sklearn.naive_bayes import MultinomialNB\n",
    "from sklearn.metrics import accuracy_score, confusion_matrix"
   ]
  },
  {
   "cell_type": "code",
   "execution_count": 2,
   "id": "73d08a01",
   "metadata": {
    "execution": {
     "iopub.execute_input": "2022-04-06T01:32:15.643675Z",
     "iopub.status.busy": "2022-04-06T01:32:15.640844Z",
     "iopub.status.idle": "2022-04-06T01:32:15.691897Z",
     "shell.execute_reply": "2022-04-06T01:32:15.692505Z",
     "shell.execute_reply.started": "2022-04-06T00:31:48.051231Z"
    },
    "papermill": {
     "duration": 0.079415,
     "end_time": "2022-04-06T01:32:15.692696",
     "exception": false,
     "start_time": "2022-04-06T01:32:15.613281",
     "status": "completed"
    },
    "tags": []
   },
   "outputs": [
    {
     "data": {
      "text/html": [
       "<div>\n",
       "<style scoped>\n",
       "    .dataframe tbody tr th:only-of-type {\n",
       "        vertical-align: middle;\n",
       "    }\n",
       "\n",
       "    .dataframe tbody tr th {\n",
       "        vertical-align: top;\n",
       "    }\n",
       "\n",
       "    .dataframe thead th {\n",
       "        text-align: right;\n",
       "    }\n",
       "</style>\n",
       "<table border=\"1\" class=\"dataframe\">\n",
       "  <thead>\n",
       "    <tr style=\"text-align: right;\">\n",
       "      <th></th>\n",
       "      <th>v1</th>\n",
       "      <th>v2</th>\n",
       "      <th>Unnamed: 2</th>\n",
       "      <th>Unnamed: 3</th>\n",
       "      <th>Unnamed: 4</th>\n",
       "    </tr>\n",
       "  </thead>\n",
       "  <tbody>\n",
       "    <tr>\n",
       "      <th>0</th>\n",
       "      <td>ham</td>\n",
       "      <td>Go until jurong point, crazy.. Available only ...</td>\n",
       "      <td>NaN</td>\n",
       "      <td>NaN</td>\n",
       "      <td>NaN</td>\n",
       "    </tr>\n",
       "    <tr>\n",
       "      <th>1</th>\n",
       "      <td>ham</td>\n",
       "      <td>Ok lar... Joking wif u oni...</td>\n",
       "      <td>NaN</td>\n",
       "      <td>NaN</td>\n",
       "      <td>NaN</td>\n",
       "    </tr>\n",
       "    <tr>\n",
       "      <th>2</th>\n",
       "      <td>spam</td>\n",
       "      <td>Free entry in 2 a wkly comp to win FA Cup fina...</td>\n",
       "      <td>NaN</td>\n",
       "      <td>NaN</td>\n",
       "      <td>NaN</td>\n",
       "    </tr>\n",
       "    <tr>\n",
       "      <th>3</th>\n",
       "      <td>ham</td>\n",
       "      <td>U dun say so early hor... U c already then say...</td>\n",
       "      <td>NaN</td>\n",
       "      <td>NaN</td>\n",
       "      <td>NaN</td>\n",
       "    </tr>\n",
       "    <tr>\n",
       "      <th>4</th>\n",
       "      <td>ham</td>\n",
       "      <td>Nah I don't think he goes to usf, he lives aro...</td>\n",
       "      <td>NaN</td>\n",
       "      <td>NaN</td>\n",
       "      <td>NaN</td>\n",
       "    </tr>\n",
       "  </tbody>\n",
       "</table>\n",
       "</div>"
      ],
      "text/plain": [
       "     v1                                                 v2 Unnamed: 2  \\\n",
       "0   ham  Go until jurong point, crazy.. Available only ...        NaN   \n",
       "1   ham                      Ok lar... Joking wif u oni...        NaN   \n",
       "2  spam  Free entry in 2 a wkly comp to win FA Cup fina...        NaN   \n",
       "3   ham  U dun say so early hor... U c already then say...        NaN   \n",
       "4   ham  Nah I don't think he goes to usf, he lives aro...        NaN   \n",
       "\n",
       "  Unnamed: 3 Unnamed: 4  \n",
       "0        NaN        NaN  \n",
       "1        NaN        NaN  \n",
       "2        NaN        NaN  \n",
       "3        NaN        NaN  \n",
       "4        NaN        NaN  "
      ]
     },
     "execution_count": 2,
     "metadata": {},
     "output_type": "execute_result"
    }
   ],
   "source": [
    "df = pd.read_csv('/kaggle/input/sms-spam-collection-dataset/spam.csv', encoding='latin-1')\n",
    "df.head()"
   ]
  },
  {
   "cell_type": "code",
   "execution_count": 3,
   "id": "8bb6b980",
   "metadata": {
    "execution": {
     "iopub.execute_input": "2022-04-06T01:32:15.760781Z",
     "iopub.status.busy": "2022-04-06T01:32:15.759829Z",
     "iopub.status.idle": "2022-04-06T01:32:15.763756Z",
     "shell.execute_reply": "2022-04-06T01:32:15.764360Z",
     "shell.execute_reply.started": "2022-04-06T00:31:48.732817Z"
    },
    "papermill": {
     "duration": 0.046103,
     "end_time": "2022-04-06T01:32:15.764551",
     "exception": false,
     "start_time": "2022-04-06T01:32:15.718448",
     "status": "completed"
    },
    "tags": []
   },
   "outputs": [
    {
     "data": {
      "text/html": [
       "<div>\n",
       "<style scoped>\n",
       "    .dataframe tbody tr th:only-of-type {\n",
       "        vertical-align: middle;\n",
       "    }\n",
       "\n",
       "    .dataframe tbody tr th {\n",
       "        vertical-align: top;\n",
       "    }\n",
       "\n",
       "    .dataframe thead th {\n",
       "        text-align: right;\n",
       "    }\n",
       "</style>\n",
       "<table border=\"1\" class=\"dataframe\">\n",
       "  <thead>\n",
       "    <tr style=\"text-align: right;\">\n",
       "      <th></th>\n",
       "      <th>v1</th>\n",
       "      <th>v2</th>\n",
       "    </tr>\n",
       "  </thead>\n",
       "  <tbody>\n",
       "    <tr>\n",
       "      <th>0</th>\n",
       "      <td>ham</td>\n",
       "      <td>Go until jurong point, crazy.. Available only ...</td>\n",
       "    </tr>\n",
       "    <tr>\n",
       "      <th>1</th>\n",
       "      <td>ham</td>\n",
       "      <td>Ok lar... Joking wif u oni...</td>\n",
       "    </tr>\n",
       "    <tr>\n",
       "      <th>2</th>\n",
       "      <td>spam</td>\n",
       "      <td>Free entry in 2 a wkly comp to win FA Cup fina...</td>\n",
       "    </tr>\n",
       "    <tr>\n",
       "      <th>3</th>\n",
       "      <td>ham</td>\n",
       "      <td>U dun say so early hor... U c already then say...</td>\n",
       "    </tr>\n",
       "    <tr>\n",
       "      <th>4</th>\n",
       "      <td>ham</td>\n",
       "      <td>Nah I don't think he goes to usf, he lives aro...</td>\n",
       "    </tr>\n",
       "  </tbody>\n",
       "</table>\n",
       "</div>"
      ],
      "text/plain": [
       "     v1                                                 v2\n",
       "0   ham  Go until jurong point, crazy.. Available only ...\n",
       "1   ham                      Ok lar... Joking wif u oni...\n",
       "2  spam  Free entry in 2 a wkly comp to win FA Cup fina...\n",
       "3   ham  U dun say so early hor... U c already then say...\n",
       "4   ham  Nah I don't think he goes to usf, he lives aro..."
      ]
     },
     "execution_count": 3,
     "metadata": {},
     "output_type": "execute_result"
    }
   ],
   "source": [
    "df = df[['v1','v2']]\n",
    "df.head()"
   ]
  },
  {
   "cell_type": "code",
   "execution_count": 4,
   "id": "c5572947",
   "metadata": {
    "execution": {
     "iopub.execute_input": "2022-04-06T01:32:18.585205Z",
     "iopub.status.busy": "2022-04-06T01:32:17.404832Z",
     "iopub.status.idle": "2022-04-06T01:32:18.816551Z",
     "shell.execute_reply": "2022-04-06T01:32:18.817171Z",
     "shell.execute_reply.started": "2022-04-06T00:31:50.190209Z"
    },
    "papermill": {
     "duration": 3.02843,
     "end_time": "2022-04-06T01:32:18.817366",
     "exception": false,
     "start_time": "2022-04-06T01:32:15.788936",
     "status": "completed"
    },
    "tags": []
   },
   "outputs": [
    {
     "data": {
      "text/html": [
       "<div>\n",
       "<style scoped>\n",
       "    .dataframe tbody tr th:only-of-type {\n",
       "        vertical-align: middle;\n",
       "    }\n",
       "\n",
       "    .dataframe tbody tr th {\n",
       "        vertical-align: top;\n",
       "    }\n",
       "\n",
       "    .dataframe thead th {\n",
       "        text-align: right;\n",
       "    }\n",
       "</style>\n",
       "<table border=\"1\" class=\"dataframe\">\n",
       "  <thead>\n",
       "    <tr style=\"text-align: right;\">\n",
       "      <th></th>\n",
       "      <th>v1</th>\n",
       "      <th>v2</th>\n",
       "    </tr>\n",
       "  </thead>\n",
       "  <tbody>\n",
       "    <tr>\n",
       "      <th>0</th>\n",
       "      <td>ham</td>\n",
       "      <td>go until jurong point crazy available only in ...</td>\n",
       "    </tr>\n",
       "    <tr>\n",
       "      <th>1</th>\n",
       "      <td>ham</td>\n",
       "      <td>ok lar joking wif u oni</td>\n",
       "    </tr>\n",
       "    <tr>\n",
       "      <th>2</th>\n",
       "      <td>spam</td>\n",
       "      <td>free entry in 2 a wkly comp to win fa cup fina...</td>\n",
       "    </tr>\n",
       "    <tr>\n",
       "      <th>3</th>\n",
       "      <td>ham</td>\n",
       "      <td>u dun say so early hor u c already then say</td>\n",
       "    </tr>\n",
       "    <tr>\n",
       "      <th>4</th>\n",
       "      <td>ham</td>\n",
       "      <td>nah i don't think he goes to usf he lives arou...</td>\n",
       "    </tr>\n",
       "  </tbody>\n",
       "</table>\n",
       "</div>"
      ],
      "text/plain": [
       "     v1                                                 v2\n",
       "0   ham  go until jurong point crazy available only in ...\n",
       "1   ham                            ok lar joking wif u oni\n",
       "2  spam  free entry in 2 a wkly comp to win fa cup fina...\n",
       "3   ham        u dun say so early hor u c already then say\n",
       "4   ham  nah i don't think he goes to usf he lives arou..."
      ]
     },
     "execution_count": 4,
     "metadata": {},
     "output_type": "execute_result"
    }
   ],
   "source": [
    "# Replace special characters with nothing and apply lowercase in string fir each row\n",
    "special_char = '@_!#$%^&*()<>?/\\|}{~:.,;[]'\n",
    "for i, row in df.iterrows():\n",
    "    df.iloc[i, 1] = ''.join(x for x in df.iloc[i, 1] if not x in special_char)\n",
    "    df.iloc[i, 1] = df.iloc[i, 1].lower()\n",
    "df.head()"
   ]
  },
  {
   "cell_type": "code",
   "execution_count": 5,
   "id": "c016d679",
   "metadata": {
    "execution": {
     "iopub.execute_input": "2022-04-06T01:32:18.884327Z",
     "iopub.status.busy": "2022-04-06T01:32:18.883117Z",
     "iopub.status.idle": "2022-04-06T01:32:21.637909Z",
     "shell.execute_reply": "2022-04-06T01:32:21.637227Z",
     "shell.execute_reply.started": "2022-04-06T00:31:53.456211Z"
    },
    "papermill": {
     "duration": 2.795185,
     "end_time": "2022-04-06T01:32:21.638107",
     "exception": false,
     "start_time": "2022-04-06T01:32:18.842922",
     "status": "completed"
    },
    "tags": []
   },
   "outputs": [
    {
     "name": "stdout",
     "output_type": "stream",
     "text": [
      "n all words: 86961\n",
      "n uniques words: 9877\n"
     ]
    }
   ],
   "source": [
    "# Get uniques words from all text in sms dataframe\n",
    "all_words = []\n",
    "for i, row in df.iterrows():\n",
    "    list_words = df.iloc[i, 1].split(' ')\n",
    "    all_words = all_words + list_words\n",
    "all_words = pd.DataFrame(all_words)\n",
    "print('n all words:', all_words.shape[0])\n",
    "uniques_words = all_words[0].unique()\n",
    "print('n uniques words:', uniques_words.shape[0])"
   ]
  },
  {
   "cell_type": "code",
   "execution_count": 6,
   "id": "0404721c",
   "metadata": {
    "execution": {
     "iopub.execute_input": "2022-04-06T01:32:21.699775Z",
     "iopub.status.busy": "2022-04-06T01:32:21.698448Z",
     "iopub.status.idle": "2022-04-06T01:40:59.989948Z",
     "shell.execute_reply": "2022-04-06T01:40:59.990552Z",
     "shell.execute_reply.started": "2022-04-06T00:31:57.746033Z"
    },
    "papermill": {
     "duration": 518.326962,
     "end_time": "2022-04-06T01:40:59.990756",
     "exception": false,
     "start_time": "2022-04-06T01:32:21.663794",
     "status": "completed"
    },
    "tags": []
   },
   "outputs": [
    {
     "data": {
      "text/html": [
       "<div>\n",
       "<style scoped>\n",
       "    .dataframe tbody tr th:only-of-type {\n",
       "        vertical-align: middle;\n",
       "    }\n",
       "\n",
       "    .dataframe tbody tr th {\n",
       "        vertical-align: top;\n",
       "    }\n",
       "\n",
       "    .dataframe thead th {\n",
       "        text-align: right;\n",
       "    }\n",
       "</style>\n",
       "<table border=\"1\" class=\"dataframe\">\n",
       "  <thead>\n",
       "    <tr style=\"text-align: right;\">\n",
       "      <th></th>\n",
       "      <th>go</th>\n",
       "      <th>until</th>\n",
       "      <th>jurong</th>\n",
       "      <th>point</th>\n",
       "      <th>crazy</th>\n",
       "      <th>available</th>\n",
       "      <th>only</th>\n",
       "      <th>in</th>\n",
       "      <th>bugis</th>\n",
       "      <th>n</th>\n",
       "      <th>...</th>\n",
       "      <th>heap</th>\n",
       "      <th>lowes</th>\n",
       "      <th>salesman</th>\n",
       "      <th>å£750</th>\n",
       "      <th>087187272008</th>\n",
       "      <th>now1</th>\n",
       "      <th>pity</th>\n",
       "      <th>soany</th>\n",
       "      <th>suggestions</th>\n",
       "      <th>bitching</th>\n",
       "    </tr>\n",
       "  </thead>\n",
       "  <tbody>\n",
       "    <tr>\n",
       "      <th>0</th>\n",
       "      <td>1</td>\n",
       "      <td>1</td>\n",
       "      <td>1</td>\n",
       "      <td>1</td>\n",
       "      <td>1</td>\n",
       "      <td>1</td>\n",
       "      <td>1</td>\n",
       "      <td>1</td>\n",
       "      <td>1</td>\n",
       "      <td>1</td>\n",
       "      <td>...</td>\n",
       "      <td>0</td>\n",
       "      <td>0</td>\n",
       "      <td>0</td>\n",
       "      <td>0</td>\n",
       "      <td>0</td>\n",
       "      <td>0</td>\n",
       "      <td>0</td>\n",
       "      <td>0</td>\n",
       "      <td>0</td>\n",
       "      <td>0</td>\n",
       "    </tr>\n",
       "    <tr>\n",
       "      <th>1</th>\n",
       "      <td>0</td>\n",
       "      <td>0</td>\n",
       "      <td>0</td>\n",
       "      <td>0</td>\n",
       "      <td>0</td>\n",
       "      <td>0</td>\n",
       "      <td>0</td>\n",
       "      <td>0</td>\n",
       "      <td>0</td>\n",
       "      <td>0</td>\n",
       "      <td>...</td>\n",
       "      <td>0</td>\n",
       "      <td>0</td>\n",
       "      <td>0</td>\n",
       "      <td>0</td>\n",
       "      <td>0</td>\n",
       "      <td>0</td>\n",
       "      <td>0</td>\n",
       "      <td>0</td>\n",
       "      <td>0</td>\n",
       "      <td>0</td>\n",
       "    </tr>\n",
       "    <tr>\n",
       "      <th>2</th>\n",
       "      <td>0</td>\n",
       "      <td>0</td>\n",
       "      <td>0</td>\n",
       "      <td>0</td>\n",
       "      <td>0</td>\n",
       "      <td>0</td>\n",
       "      <td>0</td>\n",
       "      <td>1</td>\n",
       "      <td>0</td>\n",
       "      <td>0</td>\n",
       "      <td>...</td>\n",
       "      <td>0</td>\n",
       "      <td>0</td>\n",
       "      <td>0</td>\n",
       "      <td>0</td>\n",
       "      <td>0</td>\n",
       "      <td>0</td>\n",
       "      <td>0</td>\n",
       "      <td>0</td>\n",
       "      <td>0</td>\n",
       "      <td>0</td>\n",
       "    </tr>\n",
       "    <tr>\n",
       "      <th>3</th>\n",
       "      <td>0</td>\n",
       "      <td>0</td>\n",
       "      <td>0</td>\n",
       "      <td>0</td>\n",
       "      <td>0</td>\n",
       "      <td>0</td>\n",
       "      <td>0</td>\n",
       "      <td>0</td>\n",
       "      <td>0</td>\n",
       "      <td>0</td>\n",
       "      <td>...</td>\n",
       "      <td>0</td>\n",
       "      <td>0</td>\n",
       "      <td>0</td>\n",
       "      <td>0</td>\n",
       "      <td>0</td>\n",
       "      <td>0</td>\n",
       "      <td>0</td>\n",
       "      <td>0</td>\n",
       "      <td>0</td>\n",
       "      <td>0</td>\n",
       "    </tr>\n",
       "    <tr>\n",
       "      <th>4</th>\n",
       "      <td>0</td>\n",
       "      <td>0</td>\n",
       "      <td>0</td>\n",
       "      <td>0</td>\n",
       "      <td>0</td>\n",
       "      <td>0</td>\n",
       "      <td>0</td>\n",
       "      <td>0</td>\n",
       "      <td>0</td>\n",
       "      <td>0</td>\n",
       "      <td>...</td>\n",
       "      <td>0</td>\n",
       "      <td>0</td>\n",
       "      <td>0</td>\n",
       "      <td>0</td>\n",
       "      <td>0</td>\n",
       "      <td>0</td>\n",
       "      <td>0</td>\n",
       "      <td>0</td>\n",
       "      <td>0</td>\n",
       "      <td>0</td>\n",
       "    </tr>\n",
       "    <tr>\n",
       "      <th>...</th>\n",
       "      <td>...</td>\n",
       "      <td>...</td>\n",
       "      <td>...</td>\n",
       "      <td>...</td>\n",
       "      <td>...</td>\n",
       "      <td>...</td>\n",
       "      <td>...</td>\n",
       "      <td>...</td>\n",
       "      <td>...</td>\n",
       "      <td>...</td>\n",
       "      <td>...</td>\n",
       "      <td>...</td>\n",
       "      <td>...</td>\n",
       "      <td>...</td>\n",
       "      <td>...</td>\n",
       "      <td>...</td>\n",
       "      <td>...</td>\n",
       "      <td>...</td>\n",
       "      <td>...</td>\n",
       "      <td>...</td>\n",
       "      <td>...</td>\n",
       "    </tr>\n",
       "    <tr>\n",
       "      <th>5567</th>\n",
       "      <td>0</td>\n",
       "      <td>0</td>\n",
       "      <td>0</td>\n",
       "      <td>0</td>\n",
       "      <td>0</td>\n",
       "      <td>0</td>\n",
       "      <td>1</td>\n",
       "      <td>0</td>\n",
       "      <td>0</td>\n",
       "      <td>0</td>\n",
       "      <td>...</td>\n",
       "      <td>0</td>\n",
       "      <td>0</td>\n",
       "      <td>0</td>\n",
       "      <td>1</td>\n",
       "      <td>1</td>\n",
       "      <td>1</td>\n",
       "      <td>0</td>\n",
       "      <td>0</td>\n",
       "      <td>0</td>\n",
       "      <td>0</td>\n",
       "    </tr>\n",
       "    <tr>\n",
       "      <th>5568</th>\n",
       "      <td>0</td>\n",
       "      <td>0</td>\n",
       "      <td>0</td>\n",
       "      <td>0</td>\n",
       "      <td>0</td>\n",
       "      <td>0</td>\n",
       "      <td>0</td>\n",
       "      <td>0</td>\n",
       "      <td>0</td>\n",
       "      <td>0</td>\n",
       "      <td>...</td>\n",
       "      <td>0</td>\n",
       "      <td>0</td>\n",
       "      <td>0</td>\n",
       "      <td>0</td>\n",
       "      <td>0</td>\n",
       "      <td>0</td>\n",
       "      <td>0</td>\n",
       "      <td>0</td>\n",
       "      <td>0</td>\n",
       "      <td>0</td>\n",
       "    </tr>\n",
       "    <tr>\n",
       "      <th>5569</th>\n",
       "      <td>0</td>\n",
       "      <td>0</td>\n",
       "      <td>0</td>\n",
       "      <td>0</td>\n",
       "      <td>0</td>\n",
       "      <td>0</td>\n",
       "      <td>0</td>\n",
       "      <td>1</td>\n",
       "      <td>0</td>\n",
       "      <td>0</td>\n",
       "      <td>...</td>\n",
       "      <td>0</td>\n",
       "      <td>0</td>\n",
       "      <td>0</td>\n",
       "      <td>0</td>\n",
       "      <td>0</td>\n",
       "      <td>0</td>\n",
       "      <td>1</td>\n",
       "      <td>1</td>\n",
       "      <td>1</td>\n",
       "      <td>0</td>\n",
       "    </tr>\n",
       "    <tr>\n",
       "      <th>5570</th>\n",
       "      <td>0</td>\n",
       "      <td>0</td>\n",
       "      <td>0</td>\n",
       "      <td>0</td>\n",
       "      <td>0</td>\n",
       "      <td>0</td>\n",
       "      <td>0</td>\n",
       "      <td>1</td>\n",
       "      <td>0</td>\n",
       "      <td>0</td>\n",
       "      <td>...</td>\n",
       "      <td>0</td>\n",
       "      <td>0</td>\n",
       "      <td>0</td>\n",
       "      <td>0</td>\n",
       "      <td>0</td>\n",
       "      <td>0</td>\n",
       "      <td>0</td>\n",
       "      <td>0</td>\n",
       "      <td>0</td>\n",
       "      <td>1</td>\n",
       "    </tr>\n",
       "    <tr>\n",
       "      <th>5571</th>\n",
       "      <td>0</td>\n",
       "      <td>0</td>\n",
       "      <td>0</td>\n",
       "      <td>0</td>\n",
       "      <td>0</td>\n",
       "      <td>0</td>\n",
       "      <td>0</td>\n",
       "      <td>0</td>\n",
       "      <td>0</td>\n",
       "      <td>0</td>\n",
       "      <td>...</td>\n",
       "      <td>0</td>\n",
       "      <td>0</td>\n",
       "      <td>0</td>\n",
       "      <td>0</td>\n",
       "      <td>0</td>\n",
       "      <td>0</td>\n",
       "      <td>0</td>\n",
       "      <td>0</td>\n",
       "      <td>0</td>\n",
       "      <td>0</td>\n",
       "    </tr>\n",
       "  </tbody>\n",
       "</table>\n",
       "<p>5572 rows × 9877 columns</p>\n",
       "</div>"
      ],
      "text/plain": [
       "      go  until  jurong  point  crazy  available  only  in  bugis  n  ...  \\\n",
       "0      1      1       1      1      1          1     1   1      1  1  ...   \n",
       "1      0      0       0      0      0          0     0   0      0  0  ...   \n",
       "2      0      0       0      0      0          0     0   1      0  0  ...   \n",
       "3      0      0       0      0      0          0     0   0      0  0  ...   \n",
       "4      0      0       0      0      0          0     0   0      0  0  ...   \n",
       "...   ..    ...     ...    ...    ...        ...   ...  ..    ... ..  ...   \n",
       "5567   0      0       0      0      0          0     1   0      0  0  ...   \n",
       "5568   0      0       0      0      0          0     0   0      0  0  ...   \n",
       "5569   0      0       0      0      0          0     0   1      0  0  ...   \n",
       "5570   0      0       0      0      0          0     0   1      0  0  ...   \n",
       "5571   0      0       0      0      0          0     0   0      0  0  ...   \n",
       "\n",
       "      heap  lowes  salesman  å£750  087187272008  now1  pity  soany  \\\n",
       "0        0      0         0      0             0     0     0      0   \n",
       "1        0      0         0      0             0     0     0      0   \n",
       "2        0      0         0      0             0     0     0      0   \n",
       "3        0      0         0      0             0     0     0      0   \n",
       "4        0      0         0      0             0     0     0      0   \n",
       "...    ...    ...       ...    ...           ...   ...   ...    ...   \n",
       "5567     0      0         0      1             1     1     0      0   \n",
       "5568     0      0         0      0             0     0     0      0   \n",
       "5569     0      0         0      0             0     0     1      1   \n",
       "5570     0      0         0      0             0     0     0      0   \n",
       "5571     0      0         0      0             0     0     0      0   \n",
       "\n",
       "      suggestions  bitching  \n",
       "0               0         0  \n",
       "1               0         0  \n",
       "2               0         0  \n",
       "3               0         0  \n",
       "4               0         0  \n",
       "...           ...       ...  \n",
       "5567            0         0  \n",
       "5568            0         0  \n",
       "5569            1         0  \n",
       "5570            0         1  \n",
       "5571            0         0  \n",
       "\n",
       "[5572 rows x 9877 columns]"
      ]
     },
     "execution_count": 6,
     "metadata": {},
     "output_type": "execute_result"
    }
   ],
   "source": [
    "# Create X df with the count for each word from the sms text\n",
    "y = df.iloc[:,0]\n",
    "X = pd.DataFrame(0, index=df.index, columns=uniques_words)\n",
    "for i, row in df.iterrows() :\n",
    "    list_words = row[1].split(' ')\n",
    "    for word in list_words :\n",
    "        X.loc[i,[word]] = X.loc[i,[word]] + [1 for col in X.columns if word == col]\n",
    "X"
   ]
  },
  {
   "cell_type": "code",
   "execution_count": 7,
   "id": "80ff0bdf",
   "metadata": {
    "execution": {
     "iopub.execute_input": "2022-04-06T01:41:00.049926Z",
     "iopub.status.busy": "2022-04-06T01:41:00.049211Z",
     "iopub.status.idle": "2022-04-06T01:41:00.225114Z",
     "shell.execute_reply": "2022-04-06T01:41:00.224362Z",
     "shell.execute_reply.started": "2022-03-30T00:41:39.462252Z"
    },
    "papermill": {
     "duration": 0.206493,
     "end_time": "2022-04-06T01:41:00.225275",
     "exception": false,
     "start_time": "2022-04-06T01:41:00.018782",
     "status": "completed"
    },
    "tags": []
   },
   "outputs": [
    {
     "data": {
      "text/plain": [
       "((3900, 9877), (3900,), (1672, 9877), (1672,))"
      ]
     },
     "execution_count": 7,
     "metadata": {},
     "output_type": "execute_result"
    }
   ],
   "source": [
    "X_train, X_test, y_train, y_test = train_test_split(X, y, test_size = .3)\n",
    "X_train.shape, y_train.shape, X_test.shape, y_test.shape"
   ]
  },
  {
   "cell_type": "code",
   "execution_count": 8,
   "id": "2f13a9f3",
   "metadata": {
    "execution": {
     "iopub.execute_input": "2022-04-06T01:41:00.293406Z",
     "iopub.status.busy": "2022-04-06T01:41:00.291456Z",
     "iopub.status.idle": "2022-04-06T01:41:00.951111Z",
     "shell.execute_reply": "2022-04-06T01:41:00.951671Z",
     "shell.execute_reply.started": "2022-03-30T00:52:38.271208Z"
    },
    "papermill": {
     "duration": 0.698234,
     "end_time": "2022-04-06T01:41:00.951863",
     "exception": false,
     "start_time": "2022-04-06T01:41:00.253629",
     "status": "completed"
    },
    "tags": []
   },
   "outputs": [
    {
     "data": {
      "text/plain": [
       "MultinomialNB()"
      ]
     },
     "execution_count": 8,
     "metadata": {},
     "output_type": "execute_result"
    }
   ],
   "source": [
    "clf = MultinomialNB()\n",
    "clf.fit(X_train, y_train)"
   ]
  },
  {
   "cell_type": "code",
   "execution_count": 9,
   "id": "9c300399",
   "metadata": {
    "execution": {
     "iopub.execute_input": "2022-04-06T01:41:01.014108Z",
     "iopub.status.busy": "2022-04-06T01:41:01.013349Z",
     "iopub.status.idle": "2022-04-06T01:41:01.186597Z",
     "shell.execute_reply": "2022-04-06T01:41:01.187831Z",
     "shell.execute_reply.started": "2022-03-30T01:18:09.83016Z"
    },
    "papermill": {
     "duration": 0.206833,
     "end_time": "2022-04-06T01:41:01.188186",
     "exception": false,
     "start_time": "2022-04-06T01:41:00.981353",
     "status": "completed"
    },
    "tags": []
   },
   "outputs": [
    {
     "data": {
      "text/plain": [
       "array([[9.99985635e-01, 1.43649976e-05],\n",
       "       [9.99998570e-01, 1.42978149e-06],\n",
       "       [9.89991029e-01, 1.00089713e-02],\n",
       "       ...,\n",
       "       [9.99998694e-01, 1.30633157e-06],\n",
       "       [9.99991230e-01, 8.76999227e-06],\n",
       "       [3.75767071e-04, 9.99624233e-01]])"
      ]
     },
     "execution_count": 9,
     "metadata": {},
     "output_type": "execute_result"
    }
   ],
   "source": [
    "clf.predict_proba(X_test)"
   ]
  },
  {
   "cell_type": "code",
   "execution_count": 10,
   "id": "940e6914",
   "metadata": {
    "execution": {
     "iopub.execute_input": "2022-04-06T01:41:01.310905Z",
     "iopub.status.busy": "2022-04-06T01:41:01.310116Z",
     "iopub.status.idle": "2022-04-06T01:41:01.480756Z",
     "shell.execute_reply": "2022-04-06T01:41:01.481734Z",
     "shell.execute_reply.started": "2022-03-30T01:11:00.348798Z"
    },
    "papermill": {
     "duration": 0.234671,
     "end_time": "2022-04-06T01:41:01.482101",
     "exception": false,
     "start_time": "2022-04-06T01:41:01.247430",
     "status": "completed"
    },
    "tags": []
   },
   "outputs": [
    {
     "data": {
      "text/plain": [
       "array(['ham', 'ham', 'ham', ..., 'ham', 'ham', 'spam'], dtype='<U4')"
      ]
     },
     "execution_count": 10,
     "metadata": {},
     "output_type": "execute_result"
    }
   ],
   "source": [
    "y_pred = clf.predict(X_test)\n",
    "y_pred"
   ]
  },
  {
   "cell_type": "code",
   "execution_count": 11,
   "id": "8d9b5406",
   "metadata": {
    "execution": {
     "iopub.execute_input": "2022-04-06T01:41:01.599019Z",
     "iopub.status.busy": "2022-04-06T01:41:01.598250Z",
     "iopub.status.idle": "2022-04-06T01:41:12.888006Z",
     "shell.execute_reply": "2022-04-06T01:41:12.886915Z",
     "shell.execute_reply.started": "2022-03-30T01:08:08.629376Z"
    },
    "papermill": {
     "duration": 11.349825,
     "end_time": "2022-04-06T01:41:12.888289",
     "exception": false,
     "start_time": "2022-04-06T01:41:01.538464",
     "status": "completed"
    },
    "tags": []
   },
   "outputs": [
    {
     "data": {
      "text/plain": [
       "array([0.98387097, 0.97670251, 0.98025135, 0.97845601, 0.97486535,\n",
       "       0.97486535, 0.97127469, 0.98025135, 0.96947935, 0.98204668])"
      ]
     },
     "execution_count": 11,
     "metadata": {},
     "output_type": "execute_result"
    }
   ],
   "source": [
    "scores = cross_val_score(clf, X, y, scoring=\"accuracy\", cv=10)\n",
    "scores"
   ]
  },
  {
   "cell_type": "code",
   "execution_count": 12,
   "id": "cd304027",
   "metadata": {
    "execution": {
     "iopub.execute_input": "2022-04-06T01:41:13.008399Z",
     "iopub.status.busy": "2022-04-06T01:41:13.007662Z",
     "iopub.status.idle": "2022-04-06T01:41:13.010408Z",
     "shell.execute_reply": "2022-04-06T01:41:13.010945Z",
     "shell.execute_reply.started": "2022-03-30T01:14:15.630083Z"
    },
    "papermill": {
     "duration": 0.062072,
     "end_time": "2022-04-06T01:41:13.011144",
     "exception": false,
     "start_time": "2022-04-06T01:41:12.949072",
     "status": "completed"
    },
    "tags": []
   },
   "outputs": [
    {
     "data": {
      "text/plain": [
       "0.9754784688995215"
      ]
     },
     "execution_count": 12,
     "metadata": {},
     "output_type": "execute_result"
    }
   ],
   "source": [
    "accuracy_score(y_test, y_pred)"
   ]
  },
  {
   "cell_type": "code",
   "execution_count": 13,
   "id": "a38e4150",
   "metadata": {
    "execution": {
     "iopub.execute_input": "2022-04-06T01:41:13.085879Z",
     "iopub.status.busy": "2022-04-06T01:41:13.084835Z",
     "iopub.status.idle": "2022-04-06T01:41:13.097264Z",
     "shell.execute_reply": "2022-04-06T01:41:13.098011Z",
     "shell.execute_reply.started": "2022-03-30T01:14:50.403845Z"
    },
    "papermill": {
     "duration": 0.05625,
     "end_time": "2022-04-06T01:41:13.098324",
     "exception": false,
     "start_time": "2022-04-06T01:41:13.042074",
     "status": "completed"
    },
    "tags": []
   },
   "outputs": [
    {
     "data": {
      "text/plain": [
       "array([[1430,   21],\n",
       "       [  20,  201]])"
      ]
     },
     "execution_count": 13,
     "metadata": {},
     "output_type": "execute_result"
    }
   ],
   "source": [
    "confusion_matrix(y_test, y_pred)"
   ]
  },
  {
   "cell_type": "markdown",
   "id": "3a05cb59",
   "metadata": {
    "papermill": {
     "duration": 0.04442,
     "end_time": "2022-04-06T01:41:13.186488",
     "exception": false,
     "start_time": "2022-04-06T01:41:13.142068",
     "status": "completed"
    },
    "tags": []
   },
   "source": [
    "## Trabajo en clase de ML - Cross Validation (4/3/22) "
   ]
  },
  {
   "cell_type": "code",
   "execution_count": 14,
   "id": "7eb91234",
   "metadata": {
    "execution": {
     "iopub.execute_input": "2022-04-06T01:41:13.287921Z",
     "iopub.status.busy": "2022-04-06T01:41:13.282224Z",
     "iopub.status.idle": "2022-04-06T01:41:13.769922Z",
     "shell.execute_reply": "2022-04-06T01:41:13.769352Z",
     "shell.execute_reply.started": "2022-04-06T01:07:52.676141Z"
    },
    "papermill": {
     "duration": 0.539679,
     "end_time": "2022-04-06T01:41:13.770101",
     "exception": false,
     "start_time": "2022-04-06T01:41:13.230422",
     "status": "completed"
    },
    "tags": []
   },
   "outputs": [
    {
     "data": {
      "text/plain": [
       "               1.061846\n",
       "you            0.771848\n",
       "i              0.767253\n",
       "to             0.721431\n",
       "u              0.579473\n",
       "                 ...   \n",
       "dump           0.013397\n",
       "pity           0.013397\n",
       "soany          0.013397\n",
       "suggestions    0.013397\n",
       "bitching       0.013397\n",
       "Length: 9877, dtype: float64"
      ]
     },
     "execution_count": 14,
     "metadata": {},
     "output_type": "execute_result"
    }
   ],
   "source": [
    "sort_std_words = X.std().sort_values(ascending = False)\n",
    "sort_std_words"
   ]
  },
  {
   "cell_type": "code",
   "execution_count": 15,
   "id": "b7566e45",
   "metadata": {
    "execution": {
     "iopub.execute_input": "2022-04-06T01:41:13.836166Z",
     "iopub.status.busy": "2022-04-06T01:41:13.835090Z",
     "iopub.status.idle": "2022-04-06T01:41:13.842538Z",
     "shell.execute_reply": "2022-04-06T01:41:13.843179Z",
     "shell.execute_reply.started": "2022-04-06T01:08:34.770572Z"
    },
    "papermill": {
     "duration": 0.043129,
     "end_time": "2022-04-06T01:41:13.843396",
     "exception": false,
     "start_time": "2022-04-06T01:41:13.800267",
     "status": "completed"
    },
    "tags": []
   },
   "outputs": [
    {
     "data": {
      "text/plain": [
       "Index(['', 'you', 'i', 'to', 'u', 'the', 'a', 'my', 'and', 'is',\n",
       "       ...\n",
       "       'now1', '087187272008', 'lowes', 'salesman', 'heap', 'dump', 'pity',\n",
       "       'soany', 'suggestions', 'bitching'],\n",
       "      dtype='object', length=9877)"
      ]
     },
     "execution_count": 15,
     "metadata": {},
     "output_type": "execute_result"
    }
   ],
   "source": [
    "sort_std_words.index"
   ]
  },
  {
   "cell_type": "code",
   "execution_count": 16,
   "id": "6d43fea0",
   "metadata": {
    "execution": {
     "iopub.execute_input": "2022-04-06T01:41:13.910895Z",
     "iopub.status.busy": "2022-04-06T01:41:13.909764Z",
     "iopub.status.idle": "2022-04-06T01:41:13.917429Z",
     "shell.execute_reply": "2022-04-06T01:41:13.918113Z",
     "shell.execute_reply.started": "2022-04-06T01:18:27.323639Z"
    },
    "papermill": {
     "duration": 0.042985,
     "end_time": "2022-04-06T01:41:13.918298",
     "exception": false,
     "start_time": "2022-04-06T01:41:13.875313",
     "status": "completed"
    },
    "tags": []
   },
   "outputs": [
    {
     "data": {
      "text/plain": [
       "Index(['', 'you', 'i', 'to', 'u', 'the', 'a', 'my', 'and', 'is', 'it', 'in',\n",
       "       'me', 'for', 'your', 'of', 'ltgt', '2', 'ur', 'have', 'call', 'that',\n",
       "       'do', 'on', 'are', 'be', 'can', 'will', 'if', 'now', 'so', 'not', 'but',\n",
       "       'or', 'at', 'with', 'i'm', 'we', 'get', 'free', 'just', 'this', 'no',\n",
       "       'when', 'happy', '4', 'was', 'up', 'd', 'go', 'he', 'all', 'from',\n",
       "       'out', 'how', 'know', 'ok', 'like', 'what', 'good', 'come', 'she',\n",
       "       'got', 'then', 'love', 'its', 'am', 'there', 'day', 'as', 'hi', 'time',\n",
       "       'only', 'text', 'n', 'want', 'one', 'send', 'about', 'lor', 'by',\n",
       "       'stop', 'r', 'her', 'ì', 'txt', 'going', 'need', 'don't', 'who',\n",
       "       'sorry', 'mobile', 'they', 'da', 'reply', 'i'll', 'home', 'dont',\n",
       "       'back', 'our'],\n",
       "      dtype='object')"
      ]
     },
     "execution_count": 16,
     "metadata": {},
     "output_type": "execute_result"
    }
   ],
   "source": [
    "X_top100_idx = sort_std_words[0:100]\n",
    "X_top100_idx.index"
   ]
  },
  {
   "cell_type": "code",
   "execution_count": 17,
   "id": "2fad152e",
   "metadata": {
    "execution": {
     "iopub.execute_input": "2022-04-06T01:41:13.985069Z",
     "iopub.status.busy": "2022-04-06T01:41:13.983989Z",
     "iopub.status.idle": "2022-04-06T01:41:14.014480Z",
     "shell.execute_reply": "2022-04-06T01:41:14.015047Z",
     "shell.execute_reply.started": "2022-04-06T01:18:29.394489Z"
    },
    "papermill": {
     "duration": 0.066069,
     "end_time": "2022-04-06T01:41:14.015232",
     "exception": false,
     "start_time": "2022-04-06T01:41:13.949163",
     "status": "completed"
    },
    "tags": []
   },
   "outputs": [
    {
     "data": {
      "text/html": [
       "<div>\n",
       "<style scoped>\n",
       "    .dataframe tbody tr th:only-of-type {\n",
       "        vertical-align: middle;\n",
       "    }\n",
       "\n",
       "    .dataframe tbody tr th {\n",
       "        vertical-align: top;\n",
       "    }\n",
       "\n",
       "    .dataframe thead th {\n",
       "        text-align: right;\n",
       "    }\n",
       "</style>\n",
       "<table border=\"1\" class=\"dataframe\">\n",
       "  <thead>\n",
       "    <tr style=\"text-align: right;\">\n",
       "      <th></th>\n",
       "      <th></th>\n",
       "      <th>you</th>\n",
       "      <th>i</th>\n",
       "      <th>to</th>\n",
       "      <th>u</th>\n",
       "      <th>the</th>\n",
       "      <th>a</th>\n",
       "      <th>my</th>\n",
       "      <th>and</th>\n",
       "      <th>is</th>\n",
       "      <th>...</th>\n",
       "      <th>sorry</th>\n",
       "      <th>mobile</th>\n",
       "      <th>they</th>\n",
       "      <th>da</th>\n",
       "      <th>reply</th>\n",
       "      <th>i'll</th>\n",
       "      <th>home</th>\n",
       "      <th>dont</th>\n",
       "      <th>back</th>\n",
       "      <th>our</th>\n",
       "    </tr>\n",
       "  </thead>\n",
       "  <tbody>\n",
       "    <tr>\n",
       "      <th>0</th>\n",
       "      <td>0</td>\n",
       "      <td>0</td>\n",
       "      <td>0</td>\n",
       "      <td>0</td>\n",
       "      <td>0</td>\n",
       "      <td>0</td>\n",
       "      <td>0</td>\n",
       "      <td>0</td>\n",
       "      <td>0</td>\n",
       "      <td>0</td>\n",
       "      <td>...</td>\n",
       "      <td>0</td>\n",
       "      <td>0</td>\n",
       "      <td>0</td>\n",
       "      <td>0</td>\n",
       "      <td>0</td>\n",
       "      <td>0</td>\n",
       "      <td>0</td>\n",
       "      <td>0</td>\n",
       "      <td>0</td>\n",
       "      <td>0</td>\n",
       "    </tr>\n",
       "    <tr>\n",
       "      <th>1</th>\n",
       "      <td>0</td>\n",
       "      <td>0</td>\n",
       "      <td>0</td>\n",
       "      <td>0</td>\n",
       "      <td>1</td>\n",
       "      <td>0</td>\n",
       "      <td>0</td>\n",
       "      <td>0</td>\n",
       "      <td>0</td>\n",
       "      <td>0</td>\n",
       "      <td>...</td>\n",
       "      <td>0</td>\n",
       "      <td>0</td>\n",
       "      <td>0</td>\n",
       "      <td>0</td>\n",
       "      <td>0</td>\n",
       "      <td>0</td>\n",
       "      <td>0</td>\n",
       "      <td>0</td>\n",
       "      <td>0</td>\n",
       "      <td>0</td>\n",
       "    </tr>\n",
       "    <tr>\n",
       "      <th>2</th>\n",
       "      <td>0</td>\n",
       "      <td>0</td>\n",
       "      <td>0</td>\n",
       "      <td>3</td>\n",
       "      <td>0</td>\n",
       "      <td>0</td>\n",
       "      <td>1</td>\n",
       "      <td>0</td>\n",
       "      <td>0</td>\n",
       "      <td>0</td>\n",
       "      <td>...</td>\n",
       "      <td>0</td>\n",
       "      <td>0</td>\n",
       "      <td>0</td>\n",
       "      <td>0</td>\n",
       "      <td>0</td>\n",
       "      <td>0</td>\n",
       "      <td>0</td>\n",
       "      <td>0</td>\n",
       "      <td>0</td>\n",
       "      <td>0</td>\n",
       "    </tr>\n",
       "    <tr>\n",
       "      <th>3</th>\n",
       "      <td>0</td>\n",
       "      <td>0</td>\n",
       "      <td>0</td>\n",
       "      <td>0</td>\n",
       "      <td>2</td>\n",
       "      <td>0</td>\n",
       "      <td>0</td>\n",
       "      <td>0</td>\n",
       "      <td>0</td>\n",
       "      <td>0</td>\n",
       "      <td>...</td>\n",
       "      <td>0</td>\n",
       "      <td>0</td>\n",
       "      <td>0</td>\n",
       "      <td>0</td>\n",
       "      <td>0</td>\n",
       "      <td>0</td>\n",
       "      <td>0</td>\n",
       "      <td>0</td>\n",
       "      <td>0</td>\n",
       "      <td>0</td>\n",
       "    </tr>\n",
       "    <tr>\n",
       "      <th>4</th>\n",
       "      <td>0</td>\n",
       "      <td>0</td>\n",
       "      <td>1</td>\n",
       "      <td>1</td>\n",
       "      <td>0</td>\n",
       "      <td>0</td>\n",
       "      <td>0</td>\n",
       "      <td>0</td>\n",
       "      <td>0</td>\n",
       "      <td>0</td>\n",
       "      <td>...</td>\n",
       "      <td>0</td>\n",
       "      <td>0</td>\n",
       "      <td>0</td>\n",
       "      <td>0</td>\n",
       "      <td>0</td>\n",
       "      <td>0</td>\n",
       "      <td>0</td>\n",
       "      <td>0</td>\n",
       "      <td>0</td>\n",
       "      <td>0</td>\n",
       "    </tr>\n",
       "    <tr>\n",
       "      <th>...</th>\n",
       "      <td>...</td>\n",
       "      <td>...</td>\n",
       "      <td>...</td>\n",
       "      <td>...</td>\n",
       "      <td>...</td>\n",
       "      <td>...</td>\n",
       "      <td>...</td>\n",
       "      <td>...</td>\n",
       "      <td>...</td>\n",
       "      <td>...</td>\n",
       "      <td>...</td>\n",
       "      <td>...</td>\n",
       "      <td>...</td>\n",
       "      <td>...</td>\n",
       "      <td>...</td>\n",
       "      <td>...</td>\n",
       "      <td>...</td>\n",
       "      <td>...</td>\n",
       "      <td>...</td>\n",
       "      <td>...</td>\n",
       "      <td>...</td>\n",
       "    </tr>\n",
       "    <tr>\n",
       "      <th>5567</th>\n",
       "      <td>0</td>\n",
       "      <td>0</td>\n",
       "      <td>0</td>\n",
       "      <td>0</td>\n",
       "      <td>2</td>\n",
       "      <td>2</td>\n",
       "      <td>0</td>\n",
       "      <td>0</td>\n",
       "      <td>0</td>\n",
       "      <td>2</td>\n",
       "      <td>...</td>\n",
       "      <td>0</td>\n",
       "      <td>0</td>\n",
       "      <td>0</td>\n",
       "      <td>0</td>\n",
       "      <td>0</td>\n",
       "      <td>0</td>\n",
       "      <td>0</td>\n",
       "      <td>0</td>\n",
       "      <td>0</td>\n",
       "      <td>0</td>\n",
       "    </tr>\n",
       "    <tr>\n",
       "      <th>5568</th>\n",
       "      <td>0</td>\n",
       "      <td>0</td>\n",
       "      <td>0</td>\n",
       "      <td>1</td>\n",
       "      <td>0</td>\n",
       "      <td>0</td>\n",
       "      <td>0</td>\n",
       "      <td>0</td>\n",
       "      <td>0</td>\n",
       "      <td>0</td>\n",
       "      <td>...</td>\n",
       "      <td>0</td>\n",
       "      <td>0</td>\n",
       "      <td>0</td>\n",
       "      <td>0</td>\n",
       "      <td>0</td>\n",
       "      <td>0</td>\n",
       "      <td>1</td>\n",
       "      <td>0</td>\n",
       "      <td>0</td>\n",
       "      <td>0</td>\n",
       "    </tr>\n",
       "    <tr>\n",
       "      <th>5569</th>\n",
       "      <td>1</td>\n",
       "      <td>0</td>\n",
       "      <td>0</td>\n",
       "      <td>0</td>\n",
       "      <td>0</td>\n",
       "      <td>0</td>\n",
       "      <td>0</td>\n",
       "      <td>0</td>\n",
       "      <td>0</td>\n",
       "      <td>0</td>\n",
       "      <td>...</td>\n",
       "      <td>0</td>\n",
       "      <td>0</td>\n",
       "      <td>0</td>\n",
       "      <td>0</td>\n",
       "      <td>0</td>\n",
       "      <td>0</td>\n",
       "      <td>0</td>\n",
       "      <td>0</td>\n",
       "      <td>0</td>\n",
       "      <td>0</td>\n",
       "    </tr>\n",
       "    <tr>\n",
       "      <th>5570</th>\n",
       "      <td>0</td>\n",
       "      <td>0</td>\n",
       "      <td>1</td>\n",
       "      <td>1</td>\n",
       "      <td>0</td>\n",
       "      <td>1</td>\n",
       "      <td>0</td>\n",
       "      <td>0</td>\n",
       "      <td>1</td>\n",
       "      <td>0</td>\n",
       "      <td>...</td>\n",
       "      <td>0</td>\n",
       "      <td>0</td>\n",
       "      <td>0</td>\n",
       "      <td>0</td>\n",
       "      <td>0</td>\n",
       "      <td>0</td>\n",
       "      <td>0</td>\n",
       "      <td>0</td>\n",
       "      <td>0</td>\n",
       "      <td>0</td>\n",
       "    </tr>\n",
       "    <tr>\n",
       "      <th>5571</th>\n",
       "      <td>0</td>\n",
       "      <td>0</td>\n",
       "      <td>0</td>\n",
       "      <td>1</td>\n",
       "      <td>0</td>\n",
       "      <td>0</td>\n",
       "      <td>0</td>\n",
       "      <td>0</td>\n",
       "      <td>0</td>\n",
       "      <td>0</td>\n",
       "      <td>...</td>\n",
       "      <td>0</td>\n",
       "      <td>0</td>\n",
       "      <td>0</td>\n",
       "      <td>0</td>\n",
       "      <td>0</td>\n",
       "      <td>0</td>\n",
       "      <td>0</td>\n",
       "      <td>0</td>\n",
       "      <td>0</td>\n",
       "      <td>0</td>\n",
       "    </tr>\n",
       "  </tbody>\n",
       "</table>\n",
       "<p>5572 rows × 100 columns</p>\n",
       "</div>"
      ],
      "text/plain": [
       "         you  i  to  u  the  a  my  and  is  ...  sorry  mobile  they  da  \\\n",
       "0     0    0  0   0  0    0  0   0    0   0  ...      0       0     0   0   \n",
       "1     0    0  0   0  1    0  0   0    0   0  ...      0       0     0   0   \n",
       "2     0    0  0   3  0    0  1   0    0   0  ...      0       0     0   0   \n",
       "3     0    0  0   0  2    0  0   0    0   0  ...      0       0     0   0   \n",
       "4     0    0  1   1  0    0  0   0    0   0  ...      0       0     0   0   \n",
       "...  ..  ... ..  .. ..  ... ..  ..  ...  ..  ...    ...     ...   ...  ..   \n",
       "5567  0    0  0   0  2    2  0   0    0   2  ...      0       0     0   0   \n",
       "5568  0    0  0   1  0    0  0   0    0   0  ...      0       0     0   0   \n",
       "5569  1    0  0   0  0    0  0   0    0   0  ...      0       0     0   0   \n",
       "5570  0    0  1   1  0    1  0   0    1   0  ...      0       0     0   0   \n",
       "5571  0    0  0   1  0    0  0   0    0   0  ...      0       0     0   0   \n",
       "\n",
       "      reply  i'll  home  dont  back  our  \n",
       "0         0     0     0     0     0    0  \n",
       "1         0     0     0     0     0    0  \n",
       "2         0     0     0     0     0    0  \n",
       "3         0     0     0     0     0    0  \n",
       "4         0     0     0     0     0    0  \n",
       "...     ...   ...   ...   ...   ...  ...  \n",
       "5567      0     0     0     0     0    0  \n",
       "5568      0     0     1     0     0    0  \n",
       "5569      0     0     0     0     0    0  \n",
       "5570      0     0     0     0     0    0  \n",
       "5571      0     0     0     0     0    0  \n",
       "\n",
       "[5572 rows x 100 columns]"
      ]
     },
     "execution_count": 17,
     "metadata": {},
     "output_type": "execute_result"
    }
   ],
   "source": [
    "X_top100 = X[X_top100_idx.index]\n",
    "X_top100"
   ]
  },
  {
   "cell_type": "code",
   "execution_count": 18,
   "id": "a5606462",
   "metadata": {
    "execution": {
     "iopub.execute_input": "2022-04-06T01:41:14.083865Z",
     "iopub.status.busy": "2022-04-06T01:41:14.083184Z",
     "iopub.status.idle": "2022-04-06T01:41:14.088778Z",
     "shell.execute_reply": "2022-04-06T01:41:14.089472Z",
     "shell.execute_reply.started": "2022-04-06T01:23:02.383710Z"
    },
    "papermill": {
     "duration": 0.041254,
     "end_time": "2022-04-06T01:41:14.089661",
     "exception": false,
     "start_time": "2022-04-06T01:41:14.048407",
     "status": "completed"
    },
    "tags": []
   },
   "outputs": [
    {
     "data": {
      "text/plain": [
       "array([3443, 1625, 5078, ..., 3354, 5086, 1717])"
      ]
     },
     "execution_count": 18,
     "metadata": {},
     "output_type": "execute_result"
    }
   ],
   "source": [
    "indx = np.arange(5572)\n",
    "np.random.shuffle(indx)\n",
    "indx"
   ]
  },
  {
   "cell_type": "code",
   "execution_count": 19,
   "id": "1db32047",
   "metadata": {
    "execution": {
     "iopub.execute_input": "2022-04-06T01:41:14.160486Z",
     "iopub.status.busy": "2022-04-06T01:41:14.159717Z",
     "iopub.status.idle": "2022-04-06T01:41:14.167220Z",
     "shell.execute_reply": "2022-04-06T01:41:14.167813Z",
     "shell.execute_reply.started": "2022-04-06T01:29:33.041560Z"
    },
    "papermill": {
     "duration": 0.045484,
     "end_time": "2022-04-06T01:41:14.168023",
     "exception": false,
     "start_time": "2022-04-06T01:41:14.122539",
     "status": "completed"
    },
    "tags": []
   },
   "outputs": [
    {
     "data": {
      "text/plain": [
       "KFold(n_splits=5, random_state=None, shuffle=True)"
      ]
     },
     "execution_count": 19,
     "metadata": {},
     "output_type": "execute_result"
    }
   ],
   "source": [
    "from sklearn.model_selection import KFold\n",
    "\n",
    "kf = KFold(n_splits = 5, shuffle = True)\n",
    "kf"
   ]
  },
  {
   "cell_type": "code",
   "execution_count": 20,
   "id": "fb43ef01",
   "metadata": {
    "execution": {
     "iopub.execute_input": "2022-04-06T01:41:14.240918Z",
     "iopub.status.busy": "2022-04-06T01:41:14.240187Z",
     "iopub.status.idle": "2022-04-06T01:41:14.243123Z",
     "shell.execute_reply": "2022-04-06T01:41:14.243683Z",
     "shell.execute_reply.started": "2022-04-06T01:31:16.894721Z"
    },
    "papermill": {
     "duration": 0.042682,
     "end_time": "2022-04-06T01:41:14.243873",
     "exception": false,
     "start_time": "2022-04-06T01:41:14.201191",
     "status": "completed"
    },
    "tags": []
   },
   "outputs": [
    {
     "data": {
      "text/plain": [
       "5"
      ]
     },
     "execution_count": 20,
     "metadata": {},
     "output_type": "execute_result"
    }
   ],
   "source": [
    "kf.get_n_splits(X_top100)"
   ]
  }
 ],
 "metadata": {
  "kernelspec": {
   "display_name": "Python 3",
   "language": "python",
   "name": "python3"
  },
  "language_info": {
   "codemirror_mode": {
    "name": "ipython",
    "version": 3
   },
   "file_extension": ".py",
   "mimetype": "text/x-python",
   "name": "python",
   "nbconvert_exporter": "python",
   "pygments_lexer": "ipython3",
   "version": "3.7.12"
  },
  "papermill": {
   "default_parameters": {},
   "duration": 551.805339,
   "end_time": "2022-04-06T01:41:15.091539",
   "environment_variables": {},
   "exception": null,
   "input_path": "__notebook__.ipynb",
   "output_path": "__notebook__.ipynb",
   "parameters": {},
   "start_time": "2022-04-06T01:32:03.286200",
   "version": "2.3.3"
  }
 },
 "nbformat": 4,
 "nbformat_minor": 5
}
