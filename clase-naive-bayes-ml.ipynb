{
 "cells": [
  {
   "cell_type": "code",
   "execution_count": 1,
   "id": "26626b8d",
   "metadata": {
    "_cell_guid": "b1076dfc-b9ad-4769-8c92-a6c4dae69d19",
    "_uuid": "8f2839f25d086af736a60e9eeb907d3b93b6e0e5",
    "execution": {
     "iopub.execute_input": "2022-03-27T17:35:19.458061Z",
     "iopub.status.busy": "2022-03-27T17:35:19.456832Z",
     "iopub.status.idle": "2022-03-27T17:35:19.466064Z",
     "shell.execute_reply": "2022-03-27T17:35:19.466673Z",
     "shell.execute_reply.started": "2022-03-27T17:32:57.836298Z"
    },
    "papermill": {
     "duration": 0.030901,
     "end_time": "2022-03-27T17:35:19.466982",
     "exception": false,
     "start_time": "2022-03-27T17:35:19.436081",
     "status": "completed"
    },
    "tags": []
   },
   "outputs": [],
   "source": [
    "# This Python 3 environment comes with many helpful analytics libraries installed\n",
    "# It is defined by the kaggle/python Docker image: https://github.com/kaggle/docker-python\n",
    "# For example, here's several helpful packages to load\n",
    "\n",
    "import numpy as np # linear algebra\n",
    "import pandas as pd # data processing, CSV file I/O (e.g. pd.read_csv)\n",
    "\n",
    "# Input data files are available in the read-only \"../input/\" directory\n",
    "# For example, running this (by clicking run or pressing Shift+Enter) will list all files under the input directory"
   ]
  },
  {
   "cell_type": "code",
   "execution_count": 2,
   "id": "6fa1e11b",
   "metadata": {
    "_cell_guid": "b1076dfc-b9ad-4769-8c92-a6c4dae69d19",
    "_uuid": "8f2839f25d086af736a60e9eeb907d3b93b6e0e5",
    "execution": {
     "iopub.execute_input": "2022-03-27T17:35:19.496770Z",
     "iopub.status.busy": "2022-03-27T17:35:19.496104Z",
     "iopub.status.idle": "2022-03-27T17:35:19.500156Z",
     "shell.execute_reply": "2022-03-27T17:35:19.500690Z",
     "shell.execute_reply.started": "2022-03-27T17:32:59.558270Z"
    },
    "papermill": {
     "duration": 0.020262,
     "end_time": "2022-03-27T17:35:19.500849",
     "exception": false,
     "start_time": "2022-03-27T17:35:19.480587",
     "status": "completed"
    },
    "tags": []
   },
   "outputs": [],
   "source": [
    "import os\n",
    "for dirname, _, filenames in os.walk('/kaggle/input'):\n",
    "    for filename in filenames:\n",
    "        print(os.path.join(dirname, filename))\n",
    "\n",
    "# You can write up to 20GB to the current directory (/kaggle/working/) that gets preserved as output when you create a version using \"Save & Run All\" \n",
    "# You can also write temporary files to /kaggle/temp/, but they won't be saved outside of the current session"
   ]
  },
  {
   "cell_type": "code",
   "execution_count": 3,
   "id": "3cb222f1",
   "metadata": {
    "execution": {
     "iopub.execute_input": "2022-03-27T17:35:19.531918Z",
     "iopub.status.busy": "2022-03-27T17:35:19.531196Z",
     "iopub.status.idle": "2022-03-27T17:35:20.758929Z",
     "shell.execute_reply": "2022-03-27T17:35:20.759465Z",
     "shell.execute_reply.started": "2022-03-27T17:33:01.323664Z"
    },
    "papermill": {
     "duration": 1.245671,
     "end_time": "2022-03-27T17:35:20.759659",
     "exception": false,
     "start_time": "2022-03-27T17:35:19.513988",
     "status": "completed"
    },
    "tags": []
   },
   "outputs": [],
   "source": [
    "from sklearn.datasets import load_iris\n",
    "from sklearn.naive_bayes import GaussianNB"
   ]
  },
  {
   "cell_type": "code",
   "execution_count": 4,
   "id": "cac25ad1",
   "metadata": {
    "execution": {
     "iopub.execute_input": "2022-03-27T17:35:20.791593Z",
     "iopub.status.busy": "2022-03-27T17:35:20.790862Z",
     "iopub.status.idle": "2022-03-27T17:35:20.800220Z",
     "shell.execute_reply": "2022-03-27T17:35:20.800776Z",
     "shell.execute_reply.started": "2022-03-27T17:33:04.116511Z"
    },
    "papermill": {
     "duration": 0.027946,
     "end_time": "2022-03-27T17:35:20.800948",
     "exception": false,
     "start_time": "2022-03-27T17:35:20.773002",
     "status": "completed"
    },
    "tags": []
   },
   "outputs": [],
   "source": [
    "X, y = load_iris(return_X_y=True)"
   ]
  },
  {
   "cell_type": "code",
   "execution_count": 5,
   "id": "cfead78a",
   "metadata": {
    "execution": {
     "iopub.execute_input": "2022-03-27T17:35:20.830506Z",
     "iopub.status.busy": "2022-03-27T17:35:20.829822Z",
     "iopub.status.idle": "2022-03-27T17:35:20.836950Z",
     "shell.execute_reply": "2022-03-27T17:35:20.837435Z",
     "shell.execute_reply.started": "2022-03-27T17:33:06.726172Z"
    },
    "papermill": {
     "duration": 0.023467,
     "end_time": "2022-03-27T17:35:20.837619",
     "exception": false,
     "start_time": "2022-03-27T17:35:20.814152",
     "status": "completed"
    },
    "tags": []
   },
   "outputs": [
    {
     "data": {
      "text/plain": [
       "(150, 4)"
      ]
     },
     "execution_count": 5,
     "metadata": {},
     "output_type": "execute_result"
    }
   ],
   "source": [
    "X.shape"
   ]
  },
  {
   "cell_type": "code",
   "execution_count": 6,
   "id": "847e7593",
   "metadata": {
    "execution": {
     "iopub.execute_input": "2022-03-27T17:35:20.869288Z",
     "iopub.status.busy": "2022-03-27T17:35:20.868532Z",
     "iopub.status.idle": "2022-03-27T17:35:20.872219Z",
     "shell.execute_reply": "2022-03-27T17:35:20.872856Z",
     "shell.execute_reply.started": "2022-03-27T17:33:08.816281Z"
    },
    "papermill": {
     "duration": 0.021462,
     "end_time": "2022-03-27T17:35:20.873027",
     "exception": false,
     "start_time": "2022-03-27T17:35:20.851565",
     "status": "completed"
    },
    "tags": []
   },
   "outputs": [],
   "source": [
    "x_train = X[0:140]\n",
    "y_train = y[0:140]"
   ]
  },
  {
   "cell_type": "code",
   "execution_count": 7,
   "id": "632068cb",
   "metadata": {
    "execution": {
     "iopub.execute_input": "2022-03-27T17:35:20.903944Z",
     "iopub.status.busy": "2022-03-27T17:35:20.903219Z",
     "iopub.status.idle": "2022-03-27T17:35:20.906859Z",
     "shell.execute_reply": "2022-03-27T17:35:20.907395Z",
     "shell.execute_reply.started": "2022-03-27T17:33:09.935436Z"
    },
    "papermill": {
     "duration": 0.020879,
     "end_time": "2022-03-27T17:35:20.907666",
     "exception": false,
     "start_time": "2022-03-27T17:35:20.886787",
     "status": "completed"
    },
    "tags": []
   },
   "outputs": [],
   "source": [
    "ingenuo1 = GaussianNB()"
   ]
  },
  {
   "cell_type": "code",
   "execution_count": 8,
   "id": "1145a43e",
   "metadata": {
    "execution": {
     "iopub.execute_input": "2022-03-27T17:35:20.938883Z",
     "iopub.status.busy": "2022-03-27T17:35:20.938179Z",
     "iopub.status.idle": "2022-03-27T17:35:20.947564Z",
     "shell.execute_reply": "2022-03-27T17:35:20.948163Z",
     "shell.execute_reply.started": "2022-03-27T17:33:11.474757Z"
    },
    "papermill": {
     "duration": 0.026396,
     "end_time": "2022-03-27T17:35:20.948327",
     "exception": false,
     "start_time": "2022-03-27T17:35:20.921931",
     "status": "completed"
    },
    "tags": []
   },
   "outputs": [
    {
     "data": {
      "text/plain": [
       "GaussianNB()"
      ]
     },
     "execution_count": 8,
     "metadata": {},
     "output_type": "execute_result"
    }
   ],
   "source": [
    "ingenuo1.fit(x_train, y_train)"
   ]
  },
  {
   "cell_type": "code",
   "execution_count": 9,
   "id": "eef61f97",
   "metadata": {
    "execution": {
     "iopub.execute_input": "2022-03-27T17:35:20.979987Z",
     "iopub.status.busy": "2022-03-27T17:35:20.979233Z",
     "iopub.status.idle": "2022-03-27T17:35:20.983636Z",
     "shell.execute_reply": "2022-03-27T17:35:20.984188Z",
     "shell.execute_reply.started": "2022-03-27T17:33:12.713616Z"
    },
    "papermill": {
     "duration": 0.021521,
     "end_time": "2022-03-27T17:35:20.984346",
     "exception": false,
     "start_time": "2022-03-27T17:35:20.962825",
     "status": "completed"
    },
    "tags": []
   },
   "outputs": [
    {
     "data": {
      "text/plain": [
       "array([0.35714286, 0.35714286, 0.28571429])"
      ]
     },
     "execution_count": 9,
     "metadata": {},
     "output_type": "execute_result"
    }
   ],
   "source": [
    "ingenuo1.class_prior_"
   ]
  },
  {
   "cell_type": "code",
   "execution_count": 10,
   "id": "93e46b46",
   "metadata": {
    "execution": {
     "iopub.execute_input": "2022-03-27T17:35:21.017022Z",
     "iopub.status.busy": "2022-03-27T17:35:21.016367Z",
     "iopub.status.idle": "2022-03-27T17:35:21.019656Z",
     "shell.execute_reply": "2022-03-27T17:35:21.020177Z",
     "shell.execute_reply.started": "2022-03-27T17:33:14.770324Z"
    },
    "papermill": {
     "duration": 0.021017,
     "end_time": "2022-03-27T17:35:21.020342",
     "exception": false,
     "start_time": "2022-03-27T17:35:20.999325",
     "status": "completed"
    },
    "tags": []
   },
   "outputs": [],
   "source": [
    "x_test = X[140:,:]\n",
    "y_test = y[140:]"
   ]
  },
  {
   "cell_type": "code",
   "execution_count": 11,
   "id": "6c5d5ab9",
   "metadata": {
    "execution": {
     "iopub.execute_input": "2022-03-27T17:35:21.053949Z",
     "iopub.status.busy": "2022-03-27T17:35:21.053301Z",
     "iopub.status.idle": "2022-03-27T17:35:21.058827Z",
     "shell.execute_reply": "2022-03-27T17:35:21.059361Z",
     "shell.execute_reply.started": "2022-03-27T17:33:16.804541Z"
    },
    "papermill": {
     "duration": 0.023139,
     "end_time": "2022-03-27T17:35:21.059548",
     "exception": false,
     "start_time": "2022-03-27T17:35:21.036409",
     "status": "completed"
    },
    "tags": []
   },
   "outputs": [
    {
     "data": {
      "text/plain": [
       "array([2, 2, 2, 2, 2, 2, 2, 2, 2, 2])"
      ]
     },
     "execution_count": 11,
     "metadata": {},
     "output_type": "execute_result"
    }
   ],
   "source": [
    "ingenuo1.predict(x_test)"
   ]
  },
  {
   "cell_type": "code",
   "execution_count": 12,
   "id": "eb3fc887",
   "metadata": {
    "execution": {
     "iopub.execute_input": "2022-03-27T17:35:21.096296Z",
     "iopub.status.busy": "2022-03-27T17:35:21.095554Z",
     "iopub.status.idle": "2022-03-27T17:35:21.098949Z",
     "shell.execute_reply": "2022-03-27T17:35:21.099443Z",
     "shell.execute_reply.started": "2022-03-27T17:33:18.648835Z"
    },
    "papermill": {
     "duration": 0.025204,
     "end_time": "2022-03-27T17:35:21.099640",
     "exception": false,
     "start_time": "2022-03-27T17:35:21.074436",
     "status": "completed"
    },
    "tags": []
   },
   "outputs": [
    {
     "data": {
      "text/plain": [
       "array([[1.45570357e-222, 9.10100515e-009, 9.99999991e-001],\n",
       "       [6.72516262e-187, 8.12393208e-007, 9.99999188e-001],\n",
       "       [1.38739746e-152, 3.24474447e-002, 9.67552555e-001],\n",
       "       [1.11161794e-233, 6.95154749e-009, 9.99999993e-001],\n",
       "       [6.69421989e-237, 3.08738958e-010, 1.00000000e+000],\n",
       "       [2.77659905e-191, 1.03842284e-006, 9.99998962e-001],\n",
       "       [1.33268444e-149, 3.19729441e-002, 9.68027056e-001],\n",
       "       [1.22674793e-167, 5.68436987e-004, 9.99431563e-001],\n",
       "       [2.51929644e-199, 4.29286712e-007, 9.99999571e-001],\n",
       "       [4.34063154e-146, 7.45723204e-002, 9.25427680e-001]])"
      ]
     },
     "execution_count": 12,
     "metadata": {},
     "output_type": "execute_result"
    }
   ],
   "source": [
    "ingenuo1.predict_proba(x_test)\n",
    "# Cada columna es la probabilidad de una de las 3 categorias. 1, 2 y 3"
   ]
  }
 ],
 "metadata": {
  "kernelspec": {
   "display_name": "Python 3",
   "language": "python",
   "name": "python3"
  },
  "language_info": {
   "codemirror_mode": {
    "name": "ipython",
    "version": 3
   },
   "file_extension": ".py",
   "mimetype": "text/x-python",
   "name": "python",
   "nbconvert_exporter": "python",
   "pygments_lexer": "ipython3",
   "version": "3.7.12"
  },
  "papermill": {
   "default_parameters": {},
   "duration": 12.420183,
   "end_time": "2022-03-27T17:35:21.828157",
   "environment_variables": {},
   "exception": null,
   "input_path": "__notebook__.ipynb",
   "output_path": "__notebook__.ipynb",
   "parameters": {},
   "start_time": "2022-03-27T17:35:09.407974",
   "version": "2.3.3"
  }
 },
 "nbformat": 4,
 "nbformat_minor": 5
}
